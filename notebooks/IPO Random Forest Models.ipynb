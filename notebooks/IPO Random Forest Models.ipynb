{
 "cells": [
  {
   "cell_type": "markdown",
   "metadata": {},
   "source": [
    "# IPO Random Forest Models\n",
    "Predicting Excess Returns using pre-IPO Data and Random Forest Regressions and Classifications"
   ]
  },
  {
   "cell_type": "code",
   "execution_count": 236,
   "metadata": {},
   "outputs": [],
   "source": [
    "# Library imports\n",
    "import psycopg2\n",
    "import os\n",
    "import pandas as pd\n",
    "import numpy as np\n",
    "import requests\n",
    "from sklearn.model_selection import train_test_split\n",
    "from sklearn.ensemble import RandomForestRegressor\n",
    "from sklearn.ensemble import RandomForestClassifier\n",
    "from sklearn.linear_model import LogisticRegression\n",
    "from sklearn.preprocessing import KBinsDiscretizer\n",
    "import plotly.graph_objects as go\n",
    "import plotly.figure_factory as ff"
   ]
  },
  {
   "cell_type": "markdown",
   "metadata": {},
   "source": [
    "## Gathering data"
   ]
  },
  {
   "cell_type": "code",
   "execution_count": 237,
   "metadata": {},
   "outputs": [],
   "source": [
    "# Establish connection to PostgreSQL\n",
    "conn = psycopg2.connect(os.environ.get('DB_CONNECTION_STRING'))"
   ]
  },
  {
   "cell_type": "code",
   "execution_count": 238,
   "metadata": {},
   "outputs": [
    {
     "name": "stdout",
     "output_type": "stream",
     "text": [
      "<class 'pandas.core.frame.DataFrame'>\n",
      "RangeIndex: 188 entries, 0 to 187\n",
      "Data columns (total 39 columns):\n",
      " #   Column                  Non-Null Count  Dtype              \n",
      "---  ------                  --------------  -----              \n",
      " 0   id                      188 non-null    int64              \n",
      " 1   symbol                  188 non-null    object             \n",
      " 2   companyName             188 non-null    object             \n",
      " 3   expectedDate            188 non-null    datetime64[ns, UTC]\n",
      " 4   auditor                 188 non-null    object             \n",
      " 5   market                  188 non-null    object             \n",
      " 6   cik                     188 non-null    object             \n",
      " 7   address                 188 non-null    object             \n",
      " 8   city                    188 non-null    object             \n",
      " 9   state                   188 non-null    object             \n",
      " 10  zip                     188 non-null    object             \n",
      " 11  phone                   188 non-null    object             \n",
      " 12  ceo                     188 non-null    object             \n",
      " 13  employees               188 non-null    int64              \n",
      " 14  url                     188 non-null    object             \n",
      " 15  status                  188 non-null    object             \n",
      " 16  sharesOffered           188 non-null    float64            \n",
      " 17  priceLow                188 non-null    float64            \n",
      " 18  priceHigh               120 non-null    float64            \n",
      " 19  offerAmount             0 non-null      object             \n",
      " 20  totalExpenses           188 non-null    float64            \n",
      " 21  sharesOverAllocated     0 non-null      object             \n",
      " 22  shareholderShares       17 non-null     float64            \n",
      " 23  sharesOutstanding       188 non-null    float64            \n",
      " 24  lockupPeriodExpiration  188 non-null    object             \n",
      " 25  quietPeriodExpiration   188 non-null    object             \n",
      " 26  revenue                 188 non-null    float64            \n",
      " 27  netIncome               188 non-null    float64            \n",
      " 28  totalAssets             188 non-null    float64            \n",
      " 29  totalLiabilities        188 non-null    float64            \n",
      " 30  stockholderEquity       188 non-null    float64            \n",
      " 31  companyDescription      188 non-null    object             \n",
      " 32  businessDescription     188 non-null    object             \n",
      " 33  useOfProceeds           188 non-null    object             \n",
      " 34  competition             188 non-null    object             \n",
      " 35  amount                  188 non-null    float64            \n",
      " 36  percentOffered          188 non-null    object             \n",
      " 37  createdAt               188 non-null    datetime64[ns, UTC]\n",
      " 38  updatedAt               188 non-null    datetime64[ns, UTC]\n",
      "dtypes: datetime64[ns, UTC](3), float64(12), int64(2), object(22)\n",
      "memory usage: 57.4+ KB\n"
     ]
    }
   ],
   "source": [
    "# pre-IPO data\n",
    "query = 'SELECT DISTINCT ON (\"companyName\") * FROM ipos ORDER BY \"companyName\", \"createdAt\" DESC NULLS LAST;'\n",
    "ipos = pd.read_sql(query, conn)\n",
    "ipos.info()"
   ]
  },
  {
   "cell_type": "code",
   "execution_count": 239,
   "metadata": {},
   "outputs": [
    {
     "data": {
      "text/plain": [
       "id                                                              369\n",
       "symbol                                                          TXG\n",
       "companyName                                      10X Genomics, Inc.\n",
       "exchange                                                     NASDAQ\n",
       "industry                                              Biotechnology\n",
       "website                                  http://www.10xgenomics.com\n",
       "description       10X Genomics, Inc. is a life science technolog...\n",
       "CEO                                                   Serge Saxonov\n",
       "securityName                               10x Genomics Inc Class A\n",
       "issueType                                                        cs\n",
       "sector                                            Health Technology\n",
       "primarySicCode                                                 2836\n",
       "employees                                                       584\n",
       "address                                   6230 Stoneridge Mall Road\n",
       "address2                                                       None\n",
       "state                                                            CA\n",
       "city                                                     Pleasanton\n",
       "zip                                                           94588\n",
       "country                                                          US\n",
       "phone                                                1.925.401.7300\n",
       "createdAt                          2019-11-15 19:28:38.120000+00:00\n",
       "updatedAt                          2020-07-04 09:30:07.076000+00:00\n",
       "Name: 0, dtype: object"
      ]
     },
     "execution_count": 239,
     "metadata": {},
     "output_type": "execute_result"
    }
   ],
   "source": [
    "# Company data\n",
    "query = f'SELECT * FROM companies ORDER BY \"companyName\";'\n",
    "companies = pd.read_sql(query, conn)\n",
    "companies.iloc[0]"
   ]
  },
  {
   "cell_type": "code",
   "execution_count": 240,
   "metadata": {},
   "outputs": [],
   "source": [
    "# Company price data\n",
    "date_string = \"'2019-07-22'\"\n",
    "companies_ids = tuple(companies['id'].to_numpy())\n",
    "query = f'SELECT * FROM prices WHERE \"companyId\" IN {companies_ids} AND \"date\" >= {date_string} ORDER BY \"companyId\", \"date\";'\n",
    "prices = pd.read_sql(query, conn)\n",
    "prices['date'] = pd.to_datetime(prices['date']) "
   ]
  },
  {
   "cell_type": "code",
   "execution_count": 241,
   "metadata": {},
   "outputs": [],
   "source": [
    "# Benchmark price data\n",
    "r = requests.get(os.environ.get('BENCHMARK_QUERY_STRING'))\n",
    "raw_benchmark_data = r.json()"
   ]
  },
  {
   "cell_type": "code",
   "execution_count": 242,
   "metadata": {},
   "outputs": [],
   "source": [
    "benchmark = pd.DataFrame.from_dict(raw_benchmark_data)\n",
    "benchmark['date'] = pd.to_datetime(benchmark['date']) "
   ]
  },
  {
   "cell_type": "markdown",
   "metadata": {},
   "source": [
    "## Build Labeled Series"
   ]
  },
  {
   "cell_type": "code",
   "execution_count": 243,
   "metadata": {},
   "outputs": [],
   "source": [
    "# 1. Create 21-trading day return series for SPY (average # of trading days per month)\n",
    "# 2. Extract return for each IPO and its excess return to SPY over the same period\n",
    "#    this should be a function that takes a trading day size and benchmark return series\n",
    "# 3. Combine returns with pre-IPO data\n",
    "# 4. Remove companies that do not have return data available given trading window size\n",
    "# 5. Convert categorical data to one-hot or binary encoding\n",
    "# 6. Finialze sample data (X, Y)"
   ]
  },
  {
   "cell_type": "code",
   "execution_count": 244,
   "metadata": {},
   "outputs": [],
   "source": [
    "# Series variables\n",
    "price_column = 'close'\n",
    "period = 21\n",
    "returns_groupby = 'companyId'"
   ]
  },
  {
   "cell_type": "code",
   "execution_count": 245,
   "metadata": {},
   "outputs": [],
   "source": [
    "# Create a period return series\n",
    "def period_return(df, period, price_column, return_type='discrete', zero_idx=True):\n",
    "    '''\n",
    "    Create a period return series from DataFrame (requires ASC order).\n",
    "    '''\n",
    "    \n",
    "    types = ('discrete', 'continuous')\n",
    "    if return_type not in types:\n",
    "        raise TypeError(f'return_type needs to be of type: {types}')\n",
    "\n",
    "    zero_period = period\n",
    "    if zero_idx == True:\n",
    "        zero_period = period - 1\n",
    "\n",
    "    if return_type == 'discrete':\n",
    "        return (df[price_column][zero_period:] - df[price_column][:-zero_period].values) / df[price_column][:-zero_period].values\n",
    "    else:\n",
    "        return np.log(df[price_column][zero_period:]) - np.log(df[price_column][:-zero_period].values)"
   ]
  },
  {
   "cell_type": "code",
   "execution_count": 246,
   "metadata": {},
   "outputs": [],
   "source": [
    "# 1. Benchmark Returns\n",
    "benchmark['returns21d'] = period_return(benchmark, period, price_column)"
   ]
  },
  {
   "cell_type": "code",
   "execution_count": 247,
   "metadata": {},
   "outputs": [],
   "source": [
    "# 2. IPO returns\n",
    "def add_returns_groupby(df, groupby, price_column, period, returns_column='returns'):\n",
    "    '''\n",
    "    Adds a return column to original DataFrame. Calculations are done arounding to groupby key.\n",
    "    \n",
    "    :returns: Original DataFrame with new column.\n",
    "    '''\n",
    "    grouped = df.groupby(groupby)\n",
    "    returns_series = []\n",
    "    first_series = None\n",
    "    for _, group in grouped:\n",
    "        if first_series is None:\n",
    "            first_series = period_return(group, period, price_column).rename(returns_column)\n",
    "        else:\n",
    "            returns_series.append(period_return(group, period, price_column).rename(returns_column))\n",
    "\n",
    "    return df.join(first_series.append(returns_series))"
   ]
  },
  {
   "cell_type": "code",
   "execution_count": 248,
   "metadata": {},
   "outputs": [],
   "source": [
    "# 2. IPO returns\n",
    "prices = add_returns_groupby(prices, returns_groupby, price_column, period)"
   ]
  },
  {
   "cell_type": "code",
   "execution_count": 249,
   "metadata": {},
   "outputs": [],
   "source": [
    "# Excess returns\n",
    "prices = prices.merge(benchmark[['date', 'returns21d']])\n",
    "prices['ex_returns'] = prices['returns'] - prices['returns21d']"
   ]
  },
  {
   "cell_type": "code",
   "execution_count": 250,
   "metadata": {},
   "outputs": [
    {
     "data": {
      "text/html": [
       "<div>\n",
       "<style scoped>\n",
       "    .dataframe tbody tr th:only-of-type {\n",
       "        vertical-align: middle;\n",
       "    }\n",
       "\n",
       "    .dataframe tbody tr th {\n",
       "        vertical-align: top;\n",
       "    }\n",
       "\n",
       "    .dataframe thead th {\n",
       "        text-align: right;\n",
       "    }\n",
       "</style>\n",
       "<table border=\"1\" class=\"dataframe\">\n",
       "  <thead>\n",
       "    <tr style=\"text-align: right;\">\n",
       "      <th></th>\n",
       "      <th>id_x</th>\n",
       "      <th>date</th>\n",
       "      <th>high</th>\n",
       "      <th>low</th>\n",
       "      <th>volume</th>\n",
       "      <th>open</th>\n",
       "      <th>close</th>\n",
       "      <th>uHigh</th>\n",
       "      <th>uLow</th>\n",
       "      <th>uVolume</th>\n",
       "      <th>...</th>\n",
       "      <th>change</th>\n",
       "      <th>changePercent</th>\n",
       "      <th>createdAt</th>\n",
       "      <th>updatedAt</th>\n",
       "      <th>companyId</th>\n",
       "      <th>returns</th>\n",
       "      <th>returns21d</th>\n",
       "      <th>ex_returns</th>\n",
       "      <th>id_y</th>\n",
       "      <th>symbol</th>\n",
       "    </tr>\n",
       "  </thead>\n",
       "  <tbody>\n",
       "    <tr>\n",
       "      <th>0</th>\n",
       "      <td>20936</td>\n",
       "      <td>2019-08-01</td>\n",
       "      <td>13.22</td>\n",
       "      <td>7.66</td>\n",
       "      <td>9314399.0</td>\n",
       "      <td>13.01</td>\n",
       "      <td>8.48</td>\n",
       "      <td>13.22</td>\n",
       "      <td>7.66</td>\n",
       "      <td>9314399.0</td>\n",
       "      <td>...</td>\n",
       "      <td>0.00</td>\n",
       "      <td>0.0000</td>\n",
       "      <td>2020-02-06 23:34:00.006000+00:00</td>\n",
       "      <td>2020-02-06 23:34:00.006000+00:00</td>\n",
       "      <td>332</td>\n",
       "      <td>NaN</td>\n",
       "      <td>0.168240</td>\n",
       "      <td>NaN</td>\n",
       "      <td>332</td>\n",
       "      <td>SNDL</td>\n",
       "    </tr>\n",
       "    <tr>\n",
       "      <th>1</th>\n",
       "      <td>20937</td>\n",
       "      <td>2019-08-02</td>\n",
       "      <td>10.48</td>\n",
       "      <td>8.42</td>\n",
       "      <td>2693863.0</td>\n",
       "      <td>8.42</td>\n",
       "      <td>10.45</td>\n",
       "      <td>10.48</td>\n",
       "      <td>8.42</td>\n",
       "      <td>2693863.0</td>\n",
       "      <td>...</td>\n",
       "      <td>1.97</td>\n",
       "      <td>23.2311</td>\n",
       "      <td>2020-02-06 23:34:00.006000+00:00</td>\n",
       "      <td>2020-02-06 23:34:00.006000+00:00</td>\n",
       "      <td>332</td>\n",
       "      <td>NaN</td>\n",
       "      <td>0.182069</td>\n",
       "      <td>NaN</td>\n",
       "      <td>332</td>\n",
       "      <td>SNDL</td>\n",
       "    </tr>\n",
       "    <tr>\n",
       "      <th>2</th>\n",
       "      <td>20938</td>\n",
       "      <td>2019-08-05</td>\n",
       "      <td>11.82</td>\n",
       "      <td>10.47</td>\n",
       "      <td>2206717.0</td>\n",
       "      <td>10.69</td>\n",
       "      <td>11.70</td>\n",
       "      <td>11.82</td>\n",
       "      <td>10.47</td>\n",
       "      <td>2206717.0</td>\n",
       "      <td>...</td>\n",
       "      <td>1.25</td>\n",
       "      <td>11.9617</td>\n",
       "      <td>2020-02-06 23:34:00.006000+00:00</td>\n",
       "      <td>2020-02-06 23:34:00.006000+00:00</td>\n",
       "      <td>332</td>\n",
       "      <td>NaN</td>\n",
       "      <td>0.107545</td>\n",
       "      <td>NaN</td>\n",
       "      <td>332</td>\n",
       "      <td>SNDL</td>\n",
       "    </tr>\n",
       "    <tr>\n",
       "      <th>3</th>\n",
       "      <td>20939</td>\n",
       "      <td>2019-08-06</td>\n",
       "      <td>13.21</td>\n",
       "      <td>11.99</td>\n",
       "      <td>2180774.0</td>\n",
       "      <td>12.00</td>\n",
       "      <td>13.00</td>\n",
       "      <td>13.21</td>\n",
       "      <td>11.99</td>\n",
       "      <td>2180774.0</td>\n",
       "      <td>...</td>\n",
       "      <td>1.30</td>\n",
       "      <td>11.1111</td>\n",
       "      <td>2020-02-06 23:34:00.006000+00:00</td>\n",
       "      <td>2020-02-06 23:34:00.006000+00:00</td>\n",
       "      <td>332</td>\n",
       "      <td>NaN</td>\n",
       "      <td>0.097477</td>\n",
       "      <td>NaN</td>\n",
       "      <td>332</td>\n",
       "      <td>SNDL</td>\n",
       "    </tr>\n",
       "    <tr>\n",
       "      <th>4</th>\n",
       "      <td>20940</td>\n",
       "      <td>2019-08-07</td>\n",
       "      <td>13.22</td>\n",
       "      <td>12.20</td>\n",
       "      <td>1611203.0</td>\n",
       "      <td>13.05</td>\n",
       "      <td>12.85</td>\n",
       "      <td>13.22</td>\n",
       "      <td>12.20</td>\n",
       "      <td>1611203.0</td>\n",
       "      <td>...</td>\n",
       "      <td>-0.15</td>\n",
       "      <td>-1.1538</td>\n",
       "      <td>2020-02-06 23:34:00.006000+00:00</td>\n",
       "      <td>2020-02-06 23:34:00.006000+00:00</td>\n",
       "      <td>332</td>\n",
       "      <td>NaN</td>\n",
       "      <td>0.113691</td>\n",
       "      <td>NaN</td>\n",
       "      <td>332</td>\n",
       "      <td>SNDL</td>\n",
       "    </tr>\n",
       "    <tr>\n",
       "      <th>...</th>\n",
       "      <td>...</td>\n",
       "      <td>...</td>\n",
       "      <td>...</td>\n",
       "      <td>...</td>\n",
       "      <td>...</td>\n",
       "      <td>...</td>\n",
       "      <td>...</td>\n",
       "      <td>...</td>\n",
       "      <td>...</td>\n",
       "      <td>...</td>\n",
       "      <td>...</td>\n",
       "      <td>...</td>\n",
       "      <td>...</td>\n",
       "      <td>...</td>\n",
       "      <td>...</td>\n",
       "      <td>...</td>\n",
       "      <td>...</td>\n",
       "      <td>...</td>\n",
       "      <td>...</td>\n",
       "      <td>...</td>\n",
       "      <td>...</td>\n",
       "    </tr>\n",
       "    <tr>\n",
       "      <th>15821</th>\n",
       "      <td>31903</td>\n",
       "      <td>2020-07-06</td>\n",
       "      <td>96.51</td>\n",
       "      <td>73.11</td>\n",
       "      <td>13467931.0</td>\n",
       "      <td>73.39</td>\n",
       "      <td>81.19</td>\n",
       "      <td>96.51</td>\n",
       "      <td>73.11</td>\n",
       "      <td>13467931.0</td>\n",
       "      <td>...</td>\n",
       "      <td>11.78</td>\n",
       "      <td>16.9700</td>\n",
       "      <td>2020-07-07 09:30:18.182000+00:00</td>\n",
       "      <td>2020-07-07 09:30:18.182000+00:00</td>\n",
       "      <td>548</td>\n",
       "      <td>NaN</td>\n",
       "      <td>-0.072555</td>\n",
       "      <td>NaN</td>\n",
       "      <td>548</td>\n",
       "      <td>LMND</td>\n",
       "    </tr>\n",
       "    <tr>\n",
       "      <th>15822</th>\n",
       "      <td>32029</td>\n",
       "      <td>2020-07-07</td>\n",
       "      <td>89.38</td>\n",
       "      <td>75.00</td>\n",
       "      <td>4602812.0</td>\n",
       "      <td>83.80</td>\n",
       "      <td>78.79</td>\n",
       "      <td>89.38</td>\n",
       "      <td>75.00</td>\n",
       "      <td>4602812.0</td>\n",
       "      <td>...</td>\n",
       "      <td>-2.40</td>\n",
       "      <td>-2.9600</td>\n",
       "      <td>2020-07-08 09:30:11.720000+00:00</td>\n",
       "      <td>2020-07-08 09:30:11.720000+00:00</td>\n",
       "      <td>548</td>\n",
       "      <td>NaN</td>\n",
       "      <td>-0.099618</td>\n",
       "      <td>NaN</td>\n",
       "      <td>548</td>\n",
       "      <td>LMND</td>\n",
       "    </tr>\n",
       "    <tr>\n",
       "      <th>15823</th>\n",
       "      <td>32155</td>\n",
       "      <td>2020-07-08</td>\n",
       "      <td>79.39</td>\n",
       "      <td>68.06</td>\n",
       "      <td>3499175.0</td>\n",
       "      <td>79.00</td>\n",
       "      <td>68.51</td>\n",
       "      <td>79.39</td>\n",
       "      <td>68.06</td>\n",
       "      <td>3499175.0</td>\n",
       "      <td>...</td>\n",
       "      <td>-10.28</td>\n",
       "      <td>-13.0500</td>\n",
       "      <td>2020-07-09 09:30:12.058000+00:00</td>\n",
       "      <td>2020-07-09 09:30:12.058000+00:00</td>\n",
       "      <td>548</td>\n",
       "      <td>NaN</td>\n",
       "      <td>-0.014198</td>\n",
       "      <td>NaN</td>\n",
       "      <td>548</td>\n",
       "      <td>LMND</td>\n",
       "    </tr>\n",
       "    <tr>\n",
       "      <th>15824</th>\n",
       "      <td>32282</td>\n",
       "      <td>2020-07-09</td>\n",
       "      <td>79.91</td>\n",
       "      <td>69.03</td>\n",
       "      <td>4178671.0</td>\n",
       "      <td>73.97</td>\n",
       "      <td>77.01</td>\n",
       "      <td>79.91</td>\n",
       "      <td>69.03</td>\n",
       "      <td>4178671.0</td>\n",
       "      <td>...</td>\n",
       "      <td>8.50</td>\n",
       "      <td>12.4100</td>\n",
       "      <td>2020-07-10 09:30:14.207000+00:00</td>\n",
       "      <td>2020-07-10 09:30:14.207000+00:00</td>\n",
       "      <td>548</td>\n",
       "      <td>NaN</td>\n",
       "      <td>0.016505</td>\n",
       "      <td>NaN</td>\n",
       "      <td>548</td>\n",
       "      <td>LMND</td>\n",
       "    </tr>\n",
       "    <tr>\n",
       "      <th>15825</th>\n",
       "      <td>32212</td>\n",
       "      <td>2020-07-09</td>\n",
       "      <td>28.00</td>\n",
       "      <td>24.80</td>\n",
       "      <td>2728349.0</td>\n",
       "      <td>27.97</td>\n",
       "      <td>25.99</td>\n",
       "      <td>28.00</td>\n",
       "      <td>24.80</td>\n",
       "      <td>2728349.0</td>\n",
       "      <td>...</td>\n",
       "      <td>2.56</td>\n",
       "      <td>10.9300</td>\n",
       "      <td>2020-07-10 09:30:00.525000+00:00</td>\n",
       "      <td>2020-07-10 09:30:00.525000+00:00</td>\n",
       "      <td>549</td>\n",
       "      <td>NaN</td>\n",
       "      <td>0.016505</td>\n",
       "      <td>NaN</td>\n",
       "      <td>549</td>\n",
       "      <td>BLCT</td>\n",
       "    </tr>\n",
       "  </tbody>\n",
       "</table>\n",
       "<p>15826 rows × 24 columns</p>\n",
       "</div>"
      ],
      "text/plain": [
       "        id_x       date   high    low      volume   open  close  uHigh   uLow  \\\n",
       "0      20936 2019-08-01  13.22   7.66   9314399.0  13.01   8.48  13.22   7.66   \n",
       "1      20937 2019-08-02  10.48   8.42   2693863.0   8.42  10.45  10.48   8.42   \n",
       "2      20938 2019-08-05  11.82  10.47   2206717.0  10.69  11.70  11.82  10.47   \n",
       "3      20939 2019-08-06  13.21  11.99   2180774.0  12.00  13.00  13.21  11.99   \n",
       "4      20940 2019-08-07  13.22  12.20   1611203.0  13.05  12.85  13.22  12.20   \n",
       "...      ...        ...    ...    ...         ...    ...    ...    ...    ...   \n",
       "15821  31903 2020-07-06  96.51  73.11  13467931.0  73.39  81.19  96.51  73.11   \n",
       "15822  32029 2020-07-07  89.38  75.00   4602812.0  83.80  78.79  89.38  75.00   \n",
       "15823  32155 2020-07-08  79.39  68.06   3499175.0  79.00  68.51  79.39  68.06   \n",
       "15824  32282 2020-07-09  79.91  69.03   4178671.0  73.97  77.01  79.91  69.03   \n",
       "15825  32212 2020-07-09  28.00  24.80   2728349.0  27.97  25.99  28.00  24.80   \n",
       "\n",
       "          uVolume  ...  change  changePercent  \\\n",
       "0       9314399.0  ...    0.00         0.0000   \n",
       "1       2693863.0  ...    1.97        23.2311   \n",
       "2       2206717.0  ...    1.25        11.9617   \n",
       "3       2180774.0  ...    1.30        11.1111   \n",
       "4       1611203.0  ...   -0.15        -1.1538   \n",
       "...           ...  ...     ...            ...   \n",
       "15821  13467931.0  ...   11.78        16.9700   \n",
       "15822   4602812.0  ...   -2.40        -2.9600   \n",
       "15823   3499175.0  ...  -10.28       -13.0500   \n",
       "15824   4178671.0  ...    8.50        12.4100   \n",
       "15825   2728349.0  ...    2.56        10.9300   \n",
       "\n",
       "                             createdAt                        updatedAt  \\\n",
       "0     2020-02-06 23:34:00.006000+00:00 2020-02-06 23:34:00.006000+00:00   \n",
       "1     2020-02-06 23:34:00.006000+00:00 2020-02-06 23:34:00.006000+00:00   \n",
       "2     2020-02-06 23:34:00.006000+00:00 2020-02-06 23:34:00.006000+00:00   \n",
       "3     2020-02-06 23:34:00.006000+00:00 2020-02-06 23:34:00.006000+00:00   \n",
       "4     2020-02-06 23:34:00.006000+00:00 2020-02-06 23:34:00.006000+00:00   \n",
       "...                                ...                              ...   \n",
       "15821 2020-07-07 09:30:18.182000+00:00 2020-07-07 09:30:18.182000+00:00   \n",
       "15822 2020-07-08 09:30:11.720000+00:00 2020-07-08 09:30:11.720000+00:00   \n",
       "15823 2020-07-09 09:30:12.058000+00:00 2020-07-09 09:30:12.058000+00:00   \n",
       "15824 2020-07-10 09:30:14.207000+00:00 2020-07-10 09:30:14.207000+00:00   \n",
       "15825 2020-07-10 09:30:00.525000+00:00 2020-07-10 09:30:00.525000+00:00   \n",
       "\n",
       "       companyId  returns returns21d ex_returns  id_y  symbol  \n",
       "0            332      NaN   0.168240        NaN   332    SNDL  \n",
       "1            332      NaN   0.182069        NaN   332    SNDL  \n",
       "2            332      NaN   0.107545        NaN   332    SNDL  \n",
       "3            332      NaN   0.097477        NaN   332    SNDL  \n",
       "4            332      NaN   0.113691        NaN   332    SNDL  \n",
       "...          ...      ...        ...        ...   ...     ...  \n",
       "15821        548      NaN  -0.072555        NaN   548    LMND  \n",
       "15822        548      NaN  -0.099618        NaN   548    LMND  \n",
       "15823        548      NaN  -0.014198        NaN   548    LMND  \n",
       "15824        548      NaN   0.016505        NaN   548    LMND  \n",
       "15825        549      NaN   0.016505        NaN   549    BLCT  \n",
       "\n",
       "[15826 rows x 24 columns]"
      ]
     },
     "execution_count": 250,
     "metadata": {},
     "output_type": "execute_result"
    }
   ],
   "source": [
    "# Match sybmol to id\n",
    "prices = prices.merge(companies[['id', 'symbol']], left_on='companyId', right_on='id')\n",
    "prices"
   ]
  },
  {
   "cell_type": "code",
   "execution_count": 251,
   "metadata": {},
   "outputs": [],
   "source": [
    "# 3/4. Combine the first return observation with pre-IPO data\n",
    "def combine_return_data(prices, ipos, return_col):\n",
    "    '''\n",
    "    Finds a single return to match to the pre-ipo data\n",
    "    '''\n",
    "    grouped = prices.groupby('symbol')\n",
    "    returns_series = []\n",
    "    for symbol, group in grouped:\n",
    "        temp_return = group[~pd.isna(group[return_col])][return_col]\n",
    "        if len(temp_return) > 0:\n",
    "            returns_series.append({\n",
    "                'symbol': symbol,\n",
    "                'ex_returns': temp_return.iloc[0]\n",
    "            })\n",
    "    return ipos.merge(pd.DataFrame.from_dict(returns_series), on='symbol')"
   ]
  },
  {
   "cell_type": "code",
   "execution_count": 252,
   "metadata": {},
   "outputs": [],
   "source": [
    "ipos = combine_return_data(prices, ipos, 'ex_returns')"
   ]
  },
  {
   "cell_type": "code",
   "execution_count": 253,
   "metadata": {},
   "outputs": [
    {
     "data": {
      "text/plain": [
       "count    110.000000\n",
       "mean       0.056870\n",
       "std        0.447580\n",
       "min       -0.547960\n",
       "25%       -0.171290\n",
       "50%       -0.000421\n",
       "75%        0.170126\n",
       "max        3.666887\n",
       "Name: ex_returns, dtype: float64"
      ]
     },
     "execution_count": 253,
     "metadata": {},
     "output_type": "execute_result"
    }
   ],
   "source": [
    "ipos['ex_returns'].describe()"
   ]
  },
  {
   "cell_type": "code",
   "execution_count": 254,
   "metadata": {},
   "outputs": [
    {
     "data": {
      "application/vnd.plotly.v1+json": {
       "config": {
        "plotlyServerURL": "https://plot.ly"
       },
       "data": [
        {
         "autobinx": false,
         "histnorm": "",
         "legendgroup": "ex_returns",
         "marker": {
          "color": "rgb(31, 119, 180)"
         },
         "name": "ex_returns",
         "opacity": 0.7,
         "type": "histogram",
         "x": [
          0.003016061084781488,
          -0.17759463284087135,
          -0.3451077454122416,
          0.2877661108489329,
          -0.0038584895884051576,
          0.16173576786648847,
          -0.08728850097271147,
          -0.14245803129771123,
          -0.4622731516407,
          -0.1042307463574189,
          0.5508644375278523,
          0.42879878048780484,
          0.15404822162968299,
          -0.2155404082135317,
          0.38487268940380104,
          0.4379114548667693,
          0.07830521080277048,
          0.5588402868947958,
          -0.3157606683392227,
          -0.45433866574836435,
          0.06359581030141383,
          0.33391089108910893,
          0.27051438872078776,
          -0.5479603050048898,
          -0.27483101429990264,
          -0.04342165909915563,
          -0.25381434235167827,
          -0.4221489598178062,
          -0.03175111423879896,
          -0.17209043094710683,
          -0.06609717177446628,
          0.8042625221204893,
          -0.018270662022807915,
          -0.026934121688946377,
          -0.026934121688946377,
          -0.1688883164249324,
          0.013195771138362969,
          0.10384565738673704,
          -0.19553886129496606,
          -0.015470316314340619,
          0.30184489051094904,
          -0.13924268502581752,
          0.32569412049391355,
          0.192712806565512,
          0.062244224422442276,
          0.3753627264529147,
          -0.010258643344680352,
          0.04808480565371015,
          -0.15837892060011494,
          -0.26181507890122735,
          0.023032113517550495,
          0.07956457318586704,
          -0.31665115356222706,
          0.699294907827236,
          0.23189233353912694,
          0.30448807783939635,
          -0.36471098016436765,
          0.2727655780107533,
          0.13093358342569675,
          -0.17684697859776977,
          -0.182987137724757,
          3.6668869368205574,
          -0.2780172413793102,
          -0.3008689198199033,
          -0.3963901766622095,
          0.004796427278629736,
          0.16803948667324786,
          -0.24052314325454988,
          0.2884347038446942,
          -0.04070778680522981,
          -0.13093871294084297,
          -0.19733257353739272,
          0.10386383992600431,
          -0.0370240682604847,
          -0.2085113751975238,
          -0.14991492748420843,
          0.4922726342766077,
          0.08220602273713438,
          0.6199522963588705,
          0.03994999910866366,
          -0.12882267969247416,
          0.9617122250455583,
          0.06922631396635148,
          -0.1140409186199996,
          -0.3710114692683846,
          0.6414425218060357,
          -0.08197485054627891,
          0.24697380969848132,
          0.17082121273776077,
          0.08177186687509619,
          -0.30100063320669196,
          -0.10892521940892697,
          0.06642502884192246,
          -0.08285655355477448,
          -0.26739466013757734,
          -0.12412249152783597,
          0.022717597203507196,
          -0.047818335748007534,
          -0.047818335748007534,
          0.1798401324220419,
          0.2627115588802066,
          -0.36549789324355786,
          0.06304999279307785,
          0.018338038266792252,
          0.09444142390681926,
          -0.2753001715265866,
          0.01783485774915869,
          0.12571089108910896,
          0.1536859141888562,
          0.4095195729537365
         ],
         "xaxis": "x",
         "xbins": {
          "end": 3.6668869368205574,
          "size": 0.05,
          "start": -0.5479603050048898
         },
         "yaxis": "y"
        },
        {
         "legendgroup": "ex_returns",
         "marker": {
          "color": "rgb(31, 119, 180)"
         },
         "mode": "lines",
         "name": "ex_returns",
         "showlegend": false,
         "type": "scatter",
         "x": [
          -0.5479603050048898,
          -0.5395306105212389,
          -0.531100916037588,
          -0.5226712215539371,
          -0.5142415270702863,
          -0.5058118325866353,
          -0.49738213810298443,
          -0.48895244361933354,
          -0.4805227491356826,
          -0.4720930546520318,
          -0.46366336016838083,
          -0.45523366568472995,
          -0.44680397120107906,
          -0.4383742767174282,
          -0.42994458223377724,
          -0.42151488775012635,
          -0.41308519326647547,
          -0.4046554987828246,
          -0.3962258042991737,
          -0.3877961098155228,
          -0.3793664153318719,
          -0.370936720848221,
          -0.3625070263645701,
          -0.3540773318809192,
          -0.34564763739726834,
          -0.3372179429136174,
          -0.32878824842996657,
          -0.3203585539463156,
          -0.3119288594626647,
          -0.30349916497901386,
          -0.2950694704953629,
          -0.28663977601171203,
          -0.27821008152806115,
          -0.26978038704441026,
          -0.2613506925607593,
          -0.2529209980771085,
          -0.2444913035934576,
          -0.23606160910980667,
          -0.22763191462615578,
          -0.2192022201425049,
          -0.21077252565885402,
          -0.20234283117520313,
          -0.1939131366915522,
          -0.1854834422079013,
          -0.17705374772425042,
          -0.16862405324059948,
          -0.16019435875694865,
          -0.15176466427329777,
          -0.14333496978964683,
          -0.13490527530599594,
          -0.126475580822345,
          -0.11804588633869417,
          -0.10961619185504329,
          -0.10118649737139235,
          -0.09275680288774146,
          -0.08432710840409058,
          -0.07589741392043964,
          -0.06746771943678881,
          -0.05903802495313787,
          -0.050608330469486984,
          -0.042178635985836044,
          -0.033748941502185215,
          -0.025319247018534274,
          -0.016889552534883445,
          -0.008459858051232505,
          -3.01635675815648e-05,
          0.008399530916069264,
          0.016829225399720205,
          0.025258919883371145,
          0.033688614367021974,
          0.0421183088506728,
          0.05054800333432374,
          0.05897769781797457,
          0.06740739230162551,
          0.07583708678527645,
          0.08426678126892728,
          0.09269647575257822,
          0.10112617023622916,
          0.10955586471987999,
          0.11798555920353093,
          0.12641525368718176,
          0.1348449481708327,
          0.14327464265448353,
          0.15170433713813447,
          0.1601340316217854,
          0.16856372610543624,
          0.17699342058908718,
          0.18542311507273812,
          0.19385280955638895,
          0.2022825040400399,
          0.21071219852369083,
          0.21914189300734155,
          0.2275715874909925,
          0.23600128197464343,
          0.24443097645829426,
          0.2528606709419452,
          0.26129036542559614,
          0.2697200599092471,
          0.2781497543928979,
          0.28657944887654885,
          0.2950091433601998,
          0.3034388378438506,
          0.31186853232750145,
          0.3202982268111524,
          0.3287279212948032,
          0.33715761577845416,
          0.3455873102621051,
          0.3540170047457559,
          0.36244669922940687,
          0.3708763937130578,
          0.37930608819670864,
          0.3877357826803596,
          0.3961654771640105,
          0.40459517164766123,
          0.4130248661313122,
          0.4214545606149631,
          0.42988425509861405,
          0.4383139495822649,
          0.4467436440659158,
          0.45517333854956665,
          0.4636030330332177,
          0.47203272751686853,
          0.48046242200051936,
          0.4888921164841704,
          0.49732181096782124,
          0.5057515054514721,
          0.5141811999351229,
          0.522610894418774,
          0.5310405889024248,
          0.5394702833860756,
          0.5478999778697267,
          0.5563296723533773,
          0.5647593668370283,
          0.5731890613206791,
          0.5816187558043302,
          0.590048450287981,
          0.5984781447716321,
          0.6069078392552827,
          0.6153375337389337,
          0.6237672282225846,
          0.6321969227062354,
          0.6406266171898864,
          0.6490563116735373,
          0.6574860061571883,
          0.6659157006408389,
          0.67434539512449,
          0.6827750896081408,
          0.6912047840917919,
          0.6996344785754427,
          0.7080641730590937,
          0.7164938675427444,
          0.7249235620263952,
          0.7333532565100462,
          0.7417829509936971,
          0.7502126454773481,
          0.758642339960999,
          0.7670720344446498,
          0.7755017289283006,
          0.7839314234119517,
          0.7923611178956025,
          0.8007908123792533,
          0.8092205068629044,
          0.8176502013465552,
          0.826079895830206,
          0.8345095903138569,
          0.8429392847975079,
          0.8513689792811587,
          0.8597986737648098,
          0.8682283682484606,
          0.8766580627321114,
          0.8850877572157623,
          0.8935174516994131,
          0.9019471461830642,
          0.910376840666715,
          0.918806535150366,
          0.9272362296340166,
          0.9356659241176677,
          0.9440956186013185,
          0.9525253130849696,
          0.9609550075686204,
          0.9693847020522715,
          0.9778143965359223,
          0.9862440910195729,
          0.9946737855032239,
          1.0031034799868748,
          1.0115331744705258,
          1.0199628689541766,
          1.0283925634378277,
          1.0368222579214783,
          1.0452519524051294,
          1.0536816468887802,
          1.0621113413724312,
          1.070541035856082,
          1.078970730339733,
          1.087400424823384,
          1.0958301193070346,
          1.1042598137906856,
          1.1126895082743364,
          1.1211192027579875,
          1.1295488972416383,
          1.1379785917252894,
          1.14640828620894,
          1.154837980692591,
          1.1632676751762419,
          1.1716973696598927,
          1.1801270641435437,
          1.1885567586271946,
          1.1969864531108454,
          1.2054161475944962,
          1.2138458420781473,
          1.222275536561798,
          1.2307052310454492,
          1.2391349255291,
          1.247564620012751,
          1.2559943144964016,
          1.2644240089800525,
          1.2728537034637035,
          1.2812833979473544,
          1.2897130924310054,
          1.2981427869146562,
          1.306572481398307,
          1.315002175881958,
          1.323431870365609,
          1.3318615648492598,
          1.3402912593329108,
          1.3487209538165617,
          1.3571506483002123,
          1.3655803427838633,
          1.3740100372675141,
          1.3824397317511652,
          1.390869426234816,
          1.399299120718467,
          1.407728815202118,
          1.4161585096857687,
          1.4245882041694196,
          1.4330178986530704,
          1.4414475931367214,
          1.4498772876203723,
          1.458306982104023,
          1.4667366765876741,
          1.4751663710713252,
          1.4835960655549758,
          1.4920257600386269,
          1.500455454522278,
          1.5088851490059285,
          1.5173148434895796,
          1.5257445379732306,
          1.5341742324568812,
          1.5426039269405323,
          1.5510336214241829,
          1.559463315907834,
          1.5678930103914845,
          1.5763227048751356,
          1.5847523993587866,
          1.5931820938424377,
          1.6016117883260883,
          1.6100414828097394,
          1.6184711772933904,
          1.626900871777041,
          1.635330566260692,
          1.6437602607443431,
          1.6521899552279942,
          1.6606196497116443,
          1.6690493441952954,
          1.6774790386789464,
          1.6859087331625975,
          1.694338427646248,
          1.7027681221298991,
          1.7111978166135502,
          1.7196275110972008,
          1.7280572055808519,
          1.736486900064503,
          1.744916594548154,
          1.7533462890318046,
          1.7617759835154552,
          1.7702056779991062,
          1.7786353724827573,
          1.7870650669664079,
          1.795494761450059,
          1.80392445593371,
          1.8123541504173606,
          1.8207838449010116,
          1.8292135393846627,
          1.8376432338683137,
          1.8460729283519643,
          1.8545026228356154,
          1.8629323173192665,
          1.871362011802917,
          1.8797917062865677,
          1.8882214007702187,
          1.8966510952538698,
          1.9050807897375204,
          1.9135104842211714,
          1.9219401787048225,
          1.9303698731884735,
          1.9387995676721241,
          1.9472292621557752,
          1.9556589566394262,
          1.9640886511230773,
          1.972518345606728,
          1.9809480400903785,
          1.9893777345740296,
          1.9978074290576802,
          2.0062371235413314,
          2.014666818024982,
          2.0230965125086335,
          2.031526206992284,
          2.0399559014759348,
          2.0483855959595862,
          2.056815290443237,
          2.0652449849268875,
          2.073674679410539,
          2.0821043738941896,
          2.09053406837784,
          2.098963762861491,
          2.1073934573451423,
          2.115823151828793,
          2.1242528463124435,
          2.132682540796095,
          2.1411122352797456,
          2.149541929763396,
          2.1579716242470477,
          2.1664013187306983,
          2.17483101321435,
          2.1832607076980004,
          2.191690402181651,
          2.2001200966653016,
          2.208549791148953,
          2.2169794856326037,
          2.2254091801162543,
          2.233838874599906,
          2.2422685690835564,
          2.250698263567207,
          2.2591279580508585,
          2.267557652534509,
          2.2759873470181597,
          2.2844170415018112,
          2.292846735985462,
          2.3012764304691125,
          2.309706124952763,
          2.3181358194364146,
          2.326565513920065,
          2.3349952084037158,
          2.3434249028873673,
          2.351854597371018,
          2.3602842918546694,
          2.36871398633832,
          2.3771436808219706,
          2.385573375305622,
          2.3940030697892727,
          2.4024327642729233,
          2.410862458756574,
          2.4192921532402254,
          2.427721847723876,
          2.4361515422075266,
          2.444581236691178,
          2.4530109311748287,
          2.4614406256584793,
          2.469870320142131,
          2.4783000146257814,
          2.486729709109433,
          2.4951594035930835,
          2.503589098076734,
          2.5120187925603847,
          2.5204484870440353,
          2.528878181527687,
          2.5373078760113374,
          2.545737570494989,
          2.5541672649786396,
          2.56259695946229,
          2.5710266539459417,
          2.5794563484295923,
          2.587886042913243,
          2.5963157373968944,
          2.604745431880545,
          2.6131751263641956,
          2.621604820847846,
          2.6300345153314977,
          2.6384642098151483,
          2.646893904298799,
          2.6553235987824504,
          2.663753293266101,
          2.6721829877497525,
          2.680612682233403,
          2.6890423767170537,
          2.697472071200705,
          2.705901765684356,
          2.7143314601680064,
          2.722761154651658,
          2.7311908491353085,
          2.739620543618959,
          2.7480502381026097,
          2.7564799325862612,
          2.764909627069912,
          2.7733393215535624,
          2.781769016037214,
          2.7901987105208645,
          2.798628405004515,
          2.8070580994881666,
          2.8154877939718173,
          2.8239174884554687,
          2.8323471829391185,
          2.84077687742277,
          2.8492065719064206,
          2.857636266390072,
          2.8660659608737227,
          2.8744956553573733,
          2.8829253498410248,
          2.8913550443246754,
          2.899784738808326,
          2.9082144332919775,
          2.916644127775628,
          2.9250738222592787,
          2.93350351674293,
          2.941933211226581,
          2.9503629057102314,
          2.958792600193882,
          2.9672222946775335,
          2.975651989161184,
          2.9840816836448347,
          2.992511378128486,
          3.000941072612137,
          3.0093707670957883,
          3.017800461579439,
          3.0262301560630895,
          3.034659850546741,
          3.0430895450303916,
          3.0515192395140422,
          3.059948933997693,
          3.0683786284813444,
          3.076808322964995,
          3.0852380174486456,
          3.093667711932297,
          3.1020974064159477,
          3.1105271008995983,
          3.1189567953832498,
          3.1273864898669004,
          3.135816184350552,
          3.1442458788342025,
          3.152675573317853,
          3.1611052678015037,
          3.1695349622851543,
          3.177964656768806,
          3.1863943512524564,
          3.194824045736108,
          3.2032537402197585,
          3.211683434703409,
          3.2201131291870606,
          3.228542823670711,
          3.236972518154362,
          3.2454022126380133,
          3.253831907121664,
          3.2622616016053145,
          3.270691296088965,
          3.2791209905726166,
          3.2875506850562672,
          3.295980379539918,
          3.3044100740235693,
          3.31283976850722,
          3.3212694629908706,
          3.329699157474522,
          3.3381288519581727,
          3.346558546441824,
          3.3549882409254748,
          3.3634179354091254,
          3.371847629892776,
          3.3802773243764275,
          3.388707018860078,
          3.3971367133437287,
          3.40556640782738,
          3.413996102311031,
          3.4224257967946814,
          3.430855491278333,
          3.4392851857619835,
          3.447714880245634,
          3.4561445747292856,
          3.464574269212936,
          3.4730039636965877,
          3.4814336581802383,
          3.489863352663889,
          3.4982930471475404,
          3.506722741631191,
          3.5151524361148416,
          3.523582130598493,
          3.5320118250821437,
          3.5404415195657943,
          3.548871214049446,
          3.5573009085330964,
          3.565730603016747,
          3.5741602975003985,
          3.582589991984049,
          3.5910196864676998,
          3.5994493809513513,
          3.607879075435002,
          3.6163087699186525,
          3.624738464402304,
          3.6331681588859546,
          3.641597853369605,
          3.650027547853256,
          3.6584572423369064
         ],
         "xaxis": "x",
         "y": [
          0.2479587186931165,
          0.26247498382531975,
          0.2775001316711272,
          0.2930291820497075,
          0.30905561736387693,
          0.3255713718027823,
          0.34256682805630845,
          0.36003082145117205,
          0.3779506513257873,
          0.39631209936974193,
          0.4150994545659088,
          0.4342955442907943,
          0.4538817710535198,
          0.4738381542877145,
          0.4941433765553674,
          0.5147748334789011,
          0.5357086866889087,
          0.556919919061334,
          0.5783823915203197,
          0.6000689007022055,
          0.621951236812466,
          0.6440002410607398,
          0.6661858621290156,
          0.6884772112136561,
          0.7108426152819516,
          0.7332496682966438,
          0.7556652802851528,
          0.77805572426171,
          0.8003866811472957,
          0.8226232829712016,
          0.8447301547756827,
          0.866671455778122,
          0.8884109204696251,
          0.9099119004414262,
          0.9311374078272305,
          0.9520501613272333,
          0.9726126358348488,
          0.9927871167172462,
          1.0125357598032745,
          1.031820658105312,
          1.050603916243725,
          1.0688477334533537,
          1.0865144959308488,
          1.1035668791306337,
          1.1199679604374624,
          1.1356813424373882,
          1.1506712867797921,
          1.1649028583748586,
          1.1783420794082595,
          1.1909560923831524,
          1.2027133311246272,
          1.2135836984097836,
          1.2235387486240767,
          1.2325518735979566,
          1.2405984895538826,
          1.2476562228984724,
          1.2537050924341688,
          1.2587276854443377,
          1.262709325030114,
          1.2656382260501333,
          1.2675056370384408,
          1.2683059655529305,
          1.268036884537182,
          1.2666994174617077,
          1.2642980002443598,
          1.2608405182306746,
          1.2563383168386721,
          1.2508061848334768,
          1.2442623095882595,
          1.2367282041019783,
          1.228228605972701,
          1.2187913489593487,
          1.2084472081950959,
          1.1972297205334235,
          1.1851749819037798,
          1.1723214239192217,
          1.1587095723054923,
          1.144381790002196,
          1.1293820080161665,
          1.113755447279615,
          1.0975483348776105,
          1.080807618058592,
          1.0635806794272924,
          1.0459150566423272,
          1.027858169803053,
          1.0094570595158927,
          0.9907581383840105,
          0.9718069583723257,
          0.9526479961694504,
          0.9333244583073572,
          0.9138781074168949,
          0.8943491106017571,
          0.8747759105141313,
          0.8551951193210817,
          0.8356414353702274,
          0.8161475820045885,
          0.796744267646743,
          0.7774601659780229,
          0.758321914784523,
          0.7393541318322195,
          0.7205794459712249,
          0.7020185415555349,
          0.6836902141996692,
          0.6656114358762626,
          0.6477974273865154,
          0.6302617363051792,
          0.6130163186089711,
          0.5960716223369729,
          0.5794366717978793,
          0.56311915102582,
          0.5471254853875176,
          0.5314609204523503,
          0.516129597447242,
          0.5011346248242141,
          0.4864781456645431,
          0.4721614008248087,
          0.4581847878926686,
          0.4445479161605589,
          0.4312496579412599,
          0.41828819663880107,
          0.4056610720507907,
          0.39336522341414193,
          0.3813970307162702,
          0.369752354779893,
          0.35842657659390204,
          0.3474146363082997,
          0.33671107224123475,
          0.3263100601642731,
          0.3162054530420878,
          0.30639082130844075,
          0.2968594936655277,
          0.28760459830193996,
          0.2786191043389574,
          0.2698958632385717,
          0.261427649841884,
          0.25320720265543717,
          0.24522726296686467,
          0.23748061235101225,
          0.22996010812356024,
          0.2226587163110568,
          0.2155695417333151,
          0.20868585483525548,
          0.20200111495878384,
          0.19550898980935086,
          0.18920337094419493,
          0.18307838518755318,
          0.17712840195988985,
          0.1713480365908562,
          0.16573214976687128,
          0.1602758433414831,
          0.15497445280791503,
          0.14982353679646623,
          0.14481886401309443,
          0.13995639807821567,
          0.13523228075556878,
          0.13064281407926356,
          0.1261844418926397,
          0.12185373130540711,
          0.11764735455618161,
          0.1135620717367481,
          0.10959471479323904,
          0.10574217316922532,
          0.10200138139799161,
          0.0983693088876811,
          0.09484295207533752,
          0.09141932905595235,
          0.0880954767223127,
          0.08486845038250693,
          0.08173532575610748,
          0.07869320318886332,
          0.07573921387062557,
          0.07287052779338027,
          0.07008436314666852,
          0.06737799681706762,
          0.06474877563726396,
          0.06219412801881485,
          0.059711575600921316,
          0.05729874455516868,
          0.05495337620270739,
          0.052673336625063696,
          0.05045662498176199,
          0.04830138028618593,
          0.04620588643441955,
          0.044168575328943666,
          0.04218802798871047,
          0.04026297358795194,
          0.03839228641680591,
          0.03657498080620172,
          0.03481020410628199,
          0.03309722785087906,
          0.0314354372793018,
          0.029824319420131005,
          0.02826344996928068,
          0.026752479215806046,
          0.025291117283584432,
          0.02387911896497487,
          0.022516268423967808,
          0.02120236404142727,
          0.0199372036641865,
          0.018720570503529235,
          0.01755221990759128,
          0.016431867207185015,
          0.015359176806256753,
          0.014333752657470996,
          0.013355130231099351,
          0.012422770052325779,
          0.011536052849053671,
          0.010694276320077701,
          0.009896653502755341,
          0.009142312690689087,
          0.008430298825937401,
          0.007759576267333265,
          0.007129032816929305,
          0.006537484870624567,
          0.005983683546781763,
          0.005466321638129884,
          0.0049840412273979015,
          0.004535441805782932,
          0.004119088735295263,
          0.0037335219009548065,
          0.0033772644064006857,
          0.003048831176346473,
          0.00274673734106969,
          0.002469506291359208,
          0.0022156773066482663,
          0.0019838126740383787,
          0.0017725042311904395,
          0.0015803792812749068,
          0.0014061058430155009,
          0.001248397213052111,
          0.0011060158311532846,
          0.0009777764510328394,
          0.0008625486305217161,
          0.0007592585645091408,
          0.0006668902923336936,
          0.0005844863181494215,
          0.0005111476882254793,
          0.00044603357320045713,
          0.0003883604060727762,
          0.0003374006282553747,
          0.0002924810964628868,
          0.0002529812026517713,
          0.00021833075782503502,
          0.00018800768837443289,
          0.00016153559089512358,
          0.00013848118819904148,
          0.0001184517256959597,
          0.00010109234351955674,
          8.608345585472469e-05,
          7.313816496520784e-05,
          6.199973350954023e-05,
          5.2439134937977774e-05,
          4.4252698141212934e-05,
          3.725985911921107e-05,
          3.1301029289964914e-05,
          2.6235587187692612e-05,
          2.1939997722657464e-05,
          1.8306060896668253e-05,
          1.523928988842129e-05,
          1.2657416733919877e-05,
          1.0489022416997367e-05,
          8.672287037163407e-06,
          7.153854817356396e-06,
          5.887808031373556e-06,
          4.8347434472176835e-06,
          3.96094457527885e-06,
          3.2376428562232776e-06,
          2.6403609003441107e-06,
          2.1483309766671384e-06,
          1.7439821263357845e-06,
          1.412489522363718e-06,
          1.141380000076551e-06,
          9.201880246146351e-07,
          7.401567306948226e-07,
          5.939790541727194e-07,
          4.7557436527246304e-07,
          3.7989640173464864e-07,
          3.0276868015129303e-07,
          2.4074393034553945e-07,
          1.909844469668378e-07,
          1.5116058173559147e-07,
          1.1936490713765772e-07,
          9.40398667796909e-08,
          7.39169886699048e-08,
          5.796597552045851e-08,
          4.535220133841805e-08,
          3.540133697167259e-08,
          2.757000003591408e-08,
          2.142147806818284e-08,
          1.6605709235920728e-08,
          1.2842823934796459e-08,
          9.909654600779947e-09,
          7.62871148522506e-09,
          5.859200389657508e-09,
          4.489725754280871e-09,
          3.4323802835077803e-09,
          2.6179716249928258e-09,
          1.9921785525582608e-09,
          1.5124645985747614e-09,
          1.1456070033588792e-09,
          8.657239717886979e-10,
          6.527042373873837e-10,
          4.909604368814535e-10,
          3.6844232378123383e-10,
          2.7585785919710034e-10,
          2.060601110827896e-10,
          1.5356601286557665e-10,
          1.1417967294349782e-10,
          8.46983380931451e-11,
          6.268350848006331e-11,
          4.6283258475763225e-11,
          3.4094685884959765e-11,
          2.5057717797560046e-11,
          1.8373348328494874e-11,
          1.344085829934631e-11,
          9.809740612105021e-12,
          7.142986102236827e-12,
          5.189120824132092e-12,
          3.760965943262786e-12,
          2.719547269341922e-12,
          1.961938490536756e-12,
          1.4121009141754205e-12,
          1.0139994722207602e-12,
          7.264430875453012e-13,
          5.192277132546729e-13,
          3.7026077828455016e-13,
          2.6342298156101744e-13,
          1.869825611571066e-13,
          1.3242239683995044e-13,
          9.357477112480878e-14,
          6.598480087318466e-14,
          4.6443390550517454e-14,
          3.264554640710873e-14,
          2.2941184312109365e-14,
          1.6154053286414324e-14,
          1.1450766073270908e-14,
          8.24670187821004e-15,
          6.139126471611665e-15,
          4.860569178221982e-15,
          4.247541932774537e-15,
          4.221266716830762e-15,
          4.778339980643705e-15,
          5.990324996128054e-15,
          8.012227423102918e-15,
          1.1100769268738948e-14,
          1.5644425055336815e-14,
          2.2208422117779055e-14,
          3.15994513167168e-14,
          4.495682756729413e-14,
          6.387946111567603e-14,
          9.060148137425819e-14,
          1.2823399513767621e-13,
          1.8109665102554582e-13,
          2.5517093222649817e-13,
          3.587180754185587e-13,
          5.031190811885033e-13,
          7.040135648475108e-13,
          9.828396520167114e-13,
          1.3689106295835086e-12,
          1.9022080366783935e-12,
          2.6371284213670332e-12,
          3.647496057161897e-12,
          5.033251552767049e-12,
          6.929352899284664e-12,
          9.517589175715505e-12,
          1.3042218075548084e-11,
          1.7830609430591857e-11,
          2.432042401265561e-11,
          3.309530005445665e-11,
          4.4931583937217253e-11,
          6.085935700351392e-11,
          8.224191524377973e-11,
          1.108789990265872e-10,
          1.4914050274806532e-10,
          2.001391882173128e-10,
          2.6795316434345473e-10,
          3.579116800978816e-10,
          4.769612289616981e-10,
          6.3413322605199e-10,
          8.411397663679775e-10,
          1.113130408490271e-09,
          1.469650793536117e-09,
          1.9358534867770563e-09,
          2.544023048665075e-09,
          3.3354913854350923e-09,
          4.363036337883766e-09,
          5.6938767457638815e-09,
          7.413401450000482e-09,
          9.629798516507246e-09,
          1.2479785114476264e-08,
          1.613567877246048e-08,
          2.0814098065980947e-08,
          2.6786636143705264e-08,
          3.439291493925202e-08,
          4.405650258026038e-08,
          5.6304262596002613e-08,
          7.178980228620205e-08,
          9.132180031674753e-08,
          1.1589812151560006e-07,
          1.4674677117223073e-07,
          1.853749030209233e-07,
          2.3362727548562765e-07,
          2.937557504348517e-07,
          3.6850164809019693e-07,
          4.6119301090838505e-07,
          5.758590877677288e-07,
          7.173646265732553e-07,
          8.915668566350761e-07,
          1.1054983491730697e-06,
          1.3675792613201756e-06,
          1.6878627911138478e-06,
          2.078317991919591e-06,
          2.5531544067730518e-06,
          3.129193276881153e-06,
          3.826290342872416e-06,
          4.667815479369173e-06,
          5.6811945682034655e-06,
          6.8985191063437045e-06,
          8.357229042673604e-06,
          1.0100874222748837e-05,
          1.2179959570527849e-05,
          1.4652878727511269e-05,
          1.7586940278464923e-05,
          2.1059489894199093e-05,
          2.515913069118982e-05,
          2.998704282138394e-05,
          3.565840174132746e-05,
          4.230389274842646e-05,
          5.007131719799749e-05,
          5.912728331707575e-05,
          6.965897170501909e-05,
          8.187596245963259e-05,
          9.60121074022229e-05,
          0.00011232742711737724,
          0.00013111000850599185,
          0.00015267787431836986,
          0.00017738079174646067,
          0.00020560198268305252,
          0.0002377596937875042,
          0.00027430858013403393,
          0.00031574085207428207,
          0.0003625871311498178,
          0.0004154169575819099,
          0.00047483888919523003,
          0.0005415001297560362,
          0.000616085623784064,
          0.000699316555092447,
          0.0007919481877766393,
          0.0008947669912602188,
          0.0010085869954445372,
          0.0011342453281127582,
          0.0012725968945950068,
          0.0014245081693637738,
          0.001590850080715481,
          0.0017724899829808561,
          0.001970282725719994,
          0.0021850608459758813,
          0.0024176239277027556,
          0.0026687271917229293,
          0.00293906939970679,
          0.003229280176371792,
          0.003539906874966483,
          0.0038714011317018096,
          0.004224105274635493,
          0.004598238771100583,
          0.004993884914560915,
          0.005410977966246161,
          0.0058492909785305925,
          0.006308424535268794,
          0.006787796648711685,
          0.007286634052781386,
          0.007803965128026058,
          0.008338614684238502,
          0.008889200812329986,
          0.009454133997538371,
          0.010031618661464637,
          0.01061965727096008,
          0.011216057117826155,
          0.011818439835078694,
          0.012424253673736885,
          0.013030788519395585,
          0.01363519358103391,
          0.01423449763647857,
          0.014825631670646166,
          0.0154054536951518,
          0.015970775492144505,
          0.01651839098236408,
          0.017045105878450467,
          0.017547768250457695,
          0.018023299602235577,
          0.018468726035657423,
          0.01888120906525997,
          0.019258075639254527,
          0.01959684692442678,
          0.01989526542234364,
          0.02015132000251418,
          0.020363268464504966,
          0.020529657275080958,
          0.02064933816764243,
          0.020721481338794777
         ],
         "yaxis": "y"
        },
        {
         "legendgroup": "ex_returns",
         "marker": {
          "color": "rgb(31, 119, 180)",
          "symbol": "line-ns-open"
         },
         "mode": "markers",
         "name": "ex_returns",
         "showlegend": false,
         "type": "scatter",
         "x": [
          0.003016061084781488,
          -0.17759463284087135,
          -0.3451077454122416,
          0.2877661108489329,
          -0.0038584895884051576,
          0.16173576786648847,
          -0.08728850097271147,
          -0.14245803129771123,
          -0.4622731516407,
          -0.1042307463574189,
          0.5508644375278523,
          0.42879878048780484,
          0.15404822162968299,
          -0.2155404082135317,
          0.38487268940380104,
          0.4379114548667693,
          0.07830521080277048,
          0.5588402868947958,
          -0.3157606683392227,
          -0.45433866574836435,
          0.06359581030141383,
          0.33391089108910893,
          0.27051438872078776,
          -0.5479603050048898,
          -0.27483101429990264,
          -0.04342165909915563,
          -0.25381434235167827,
          -0.4221489598178062,
          -0.03175111423879896,
          -0.17209043094710683,
          -0.06609717177446628,
          0.8042625221204893,
          -0.018270662022807915,
          -0.026934121688946377,
          -0.026934121688946377,
          -0.1688883164249324,
          0.013195771138362969,
          0.10384565738673704,
          -0.19553886129496606,
          -0.015470316314340619,
          0.30184489051094904,
          -0.13924268502581752,
          0.32569412049391355,
          0.192712806565512,
          0.062244224422442276,
          0.3753627264529147,
          -0.010258643344680352,
          0.04808480565371015,
          -0.15837892060011494,
          -0.26181507890122735,
          0.023032113517550495,
          0.07956457318586704,
          -0.31665115356222706,
          0.699294907827236,
          0.23189233353912694,
          0.30448807783939635,
          -0.36471098016436765,
          0.2727655780107533,
          0.13093358342569675,
          -0.17684697859776977,
          -0.182987137724757,
          3.6668869368205574,
          -0.2780172413793102,
          -0.3008689198199033,
          -0.3963901766622095,
          0.004796427278629736,
          0.16803948667324786,
          -0.24052314325454988,
          0.2884347038446942,
          -0.04070778680522981,
          -0.13093871294084297,
          -0.19733257353739272,
          0.10386383992600431,
          -0.0370240682604847,
          -0.2085113751975238,
          -0.14991492748420843,
          0.4922726342766077,
          0.08220602273713438,
          0.6199522963588705,
          0.03994999910866366,
          -0.12882267969247416,
          0.9617122250455583,
          0.06922631396635148,
          -0.1140409186199996,
          -0.3710114692683846,
          0.6414425218060357,
          -0.08197485054627891,
          0.24697380969848132,
          0.17082121273776077,
          0.08177186687509619,
          -0.30100063320669196,
          -0.10892521940892697,
          0.06642502884192246,
          -0.08285655355477448,
          -0.26739466013757734,
          -0.12412249152783597,
          0.022717597203507196,
          -0.047818335748007534,
          -0.047818335748007534,
          0.1798401324220419,
          0.2627115588802066,
          -0.36549789324355786,
          0.06304999279307785,
          0.018338038266792252,
          0.09444142390681926,
          -0.2753001715265866,
          0.01783485774915869,
          0.12571089108910896,
          0.1536859141888562,
          0.4095195729537365
         ],
         "xaxis": "x",
         "y": [
          "ex_returns",
          "ex_returns",
          "ex_returns",
          "ex_returns",
          "ex_returns",
          "ex_returns",
          "ex_returns",
          "ex_returns",
          "ex_returns",
          "ex_returns",
          "ex_returns",
          "ex_returns",
          "ex_returns",
          "ex_returns",
          "ex_returns",
          "ex_returns",
          "ex_returns",
          "ex_returns",
          "ex_returns",
          "ex_returns",
          "ex_returns",
          "ex_returns",
          "ex_returns",
          "ex_returns",
          "ex_returns",
          "ex_returns",
          "ex_returns",
          "ex_returns",
          "ex_returns",
          "ex_returns",
          "ex_returns",
          "ex_returns",
          "ex_returns",
          "ex_returns",
          "ex_returns",
          "ex_returns",
          "ex_returns",
          "ex_returns",
          "ex_returns",
          "ex_returns",
          "ex_returns",
          "ex_returns",
          "ex_returns",
          "ex_returns",
          "ex_returns",
          "ex_returns",
          "ex_returns",
          "ex_returns",
          "ex_returns",
          "ex_returns",
          "ex_returns",
          "ex_returns",
          "ex_returns",
          "ex_returns",
          "ex_returns",
          "ex_returns",
          "ex_returns",
          "ex_returns",
          "ex_returns",
          "ex_returns",
          "ex_returns",
          "ex_returns",
          "ex_returns",
          "ex_returns",
          "ex_returns",
          "ex_returns",
          "ex_returns",
          "ex_returns",
          "ex_returns",
          "ex_returns",
          "ex_returns",
          "ex_returns",
          "ex_returns",
          "ex_returns",
          "ex_returns",
          "ex_returns",
          "ex_returns",
          "ex_returns",
          "ex_returns",
          "ex_returns",
          "ex_returns",
          "ex_returns",
          "ex_returns",
          "ex_returns",
          "ex_returns",
          "ex_returns",
          "ex_returns",
          "ex_returns",
          "ex_returns",
          "ex_returns",
          "ex_returns",
          "ex_returns",
          "ex_returns",
          "ex_returns",
          "ex_returns",
          "ex_returns",
          "ex_returns",
          "ex_returns",
          "ex_returns",
          "ex_returns",
          "ex_returns",
          "ex_returns",
          "ex_returns",
          "ex_returns",
          "ex_returns",
          "ex_returns",
          "ex_returns",
          "ex_returns",
          "ex_returns",
          "ex_returns"
         ],
         "yaxis": "y2"
        }
       ],
       "layout": {
        "barmode": "overlay",
        "hovermode": "closest",
        "legend": {
         "traceorder": "reversed"
        },
        "template": {
         "data": {
          "bar": [
           {
            "error_x": {
             "color": "#2a3f5f"
            },
            "error_y": {
             "color": "#2a3f5f"
            },
            "marker": {
             "line": {
              "color": "#E5ECF6",
              "width": 0.5
             }
            },
            "type": "bar"
           }
          ],
          "barpolar": [
           {
            "marker": {
             "line": {
              "color": "#E5ECF6",
              "width": 0.5
             }
            },
            "type": "barpolar"
           }
          ],
          "carpet": [
           {
            "aaxis": {
             "endlinecolor": "#2a3f5f",
             "gridcolor": "white",
             "linecolor": "white",
             "minorgridcolor": "white",
             "startlinecolor": "#2a3f5f"
            },
            "baxis": {
             "endlinecolor": "#2a3f5f",
             "gridcolor": "white",
             "linecolor": "white",
             "minorgridcolor": "white",
             "startlinecolor": "#2a3f5f"
            },
            "type": "carpet"
           }
          ],
          "choropleth": [
           {
            "colorbar": {
             "outlinewidth": 0,
             "ticks": ""
            },
            "type": "choropleth"
           }
          ],
          "contour": [
           {
            "colorbar": {
             "outlinewidth": 0,
             "ticks": ""
            },
            "colorscale": [
             [
              0,
              "#0d0887"
             ],
             [
              0.1111111111111111,
              "#46039f"
             ],
             [
              0.2222222222222222,
              "#7201a8"
             ],
             [
              0.3333333333333333,
              "#9c179e"
             ],
             [
              0.4444444444444444,
              "#bd3786"
             ],
             [
              0.5555555555555556,
              "#d8576b"
             ],
             [
              0.6666666666666666,
              "#ed7953"
             ],
             [
              0.7777777777777778,
              "#fb9f3a"
             ],
             [
              0.8888888888888888,
              "#fdca26"
             ],
             [
              1,
              "#f0f921"
             ]
            ],
            "type": "contour"
           }
          ],
          "contourcarpet": [
           {
            "colorbar": {
             "outlinewidth": 0,
             "ticks": ""
            },
            "type": "contourcarpet"
           }
          ],
          "heatmap": [
           {
            "colorbar": {
             "outlinewidth": 0,
             "ticks": ""
            },
            "colorscale": [
             [
              0,
              "#0d0887"
             ],
             [
              0.1111111111111111,
              "#46039f"
             ],
             [
              0.2222222222222222,
              "#7201a8"
             ],
             [
              0.3333333333333333,
              "#9c179e"
             ],
             [
              0.4444444444444444,
              "#bd3786"
             ],
             [
              0.5555555555555556,
              "#d8576b"
             ],
             [
              0.6666666666666666,
              "#ed7953"
             ],
             [
              0.7777777777777778,
              "#fb9f3a"
             ],
             [
              0.8888888888888888,
              "#fdca26"
             ],
             [
              1,
              "#f0f921"
             ]
            ],
            "type": "heatmap"
           }
          ],
          "heatmapgl": [
           {
            "colorbar": {
             "outlinewidth": 0,
             "ticks": ""
            },
            "colorscale": [
             [
              0,
              "#0d0887"
             ],
             [
              0.1111111111111111,
              "#46039f"
             ],
             [
              0.2222222222222222,
              "#7201a8"
             ],
             [
              0.3333333333333333,
              "#9c179e"
             ],
             [
              0.4444444444444444,
              "#bd3786"
             ],
             [
              0.5555555555555556,
              "#d8576b"
             ],
             [
              0.6666666666666666,
              "#ed7953"
             ],
             [
              0.7777777777777778,
              "#fb9f3a"
             ],
             [
              0.8888888888888888,
              "#fdca26"
             ],
             [
              1,
              "#f0f921"
             ]
            ],
            "type": "heatmapgl"
           }
          ],
          "histogram": [
           {
            "marker": {
             "colorbar": {
              "outlinewidth": 0,
              "ticks": ""
             }
            },
            "type": "histogram"
           }
          ],
          "histogram2d": [
           {
            "colorbar": {
             "outlinewidth": 0,
             "ticks": ""
            },
            "colorscale": [
             [
              0,
              "#0d0887"
             ],
             [
              0.1111111111111111,
              "#46039f"
             ],
             [
              0.2222222222222222,
              "#7201a8"
             ],
             [
              0.3333333333333333,
              "#9c179e"
             ],
             [
              0.4444444444444444,
              "#bd3786"
             ],
             [
              0.5555555555555556,
              "#d8576b"
             ],
             [
              0.6666666666666666,
              "#ed7953"
             ],
             [
              0.7777777777777778,
              "#fb9f3a"
             ],
             [
              0.8888888888888888,
              "#fdca26"
             ],
             [
              1,
              "#f0f921"
             ]
            ],
            "type": "histogram2d"
           }
          ],
          "histogram2dcontour": [
           {
            "colorbar": {
             "outlinewidth": 0,
             "ticks": ""
            },
            "colorscale": [
             [
              0,
              "#0d0887"
             ],
             [
              0.1111111111111111,
              "#46039f"
             ],
             [
              0.2222222222222222,
              "#7201a8"
             ],
             [
              0.3333333333333333,
              "#9c179e"
             ],
             [
              0.4444444444444444,
              "#bd3786"
             ],
             [
              0.5555555555555556,
              "#d8576b"
             ],
             [
              0.6666666666666666,
              "#ed7953"
             ],
             [
              0.7777777777777778,
              "#fb9f3a"
             ],
             [
              0.8888888888888888,
              "#fdca26"
             ],
             [
              1,
              "#f0f921"
             ]
            ],
            "type": "histogram2dcontour"
           }
          ],
          "mesh3d": [
           {
            "colorbar": {
             "outlinewidth": 0,
             "ticks": ""
            },
            "type": "mesh3d"
           }
          ],
          "parcoords": [
           {
            "line": {
             "colorbar": {
              "outlinewidth": 0,
              "ticks": ""
             }
            },
            "type": "parcoords"
           }
          ],
          "pie": [
           {
            "automargin": true,
            "type": "pie"
           }
          ],
          "scatter": [
           {
            "marker": {
             "colorbar": {
              "outlinewidth": 0,
              "ticks": ""
             }
            },
            "type": "scatter"
           }
          ],
          "scatter3d": [
           {
            "line": {
             "colorbar": {
              "outlinewidth": 0,
              "ticks": ""
             }
            },
            "marker": {
             "colorbar": {
              "outlinewidth": 0,
              "ticks": ""
             }
            },
            "type": "scatter3d"
           }
          ],
          "scattercarpet": [
           {
            "marker": {
             "colorbar": {
              "outlinewidth": 0,
              "ticks": ""
             }
            },
            "type": "scattercarpet"
           }
          ],
          "scattergeo": [
           {
            "marker": {
             "colorbar": {
              "outlinewidth": 0,
              "ticks": ""
             }
            },
            "type": "scattergeo"
           }
          ],
          "scattergl": [
           {
            "marker": {
             "colorbar": {
              "outlinewidth": 0,
              "ticks": ""
             }
            },
            "type": "scattergl"
           }
          ],
          "scattermapbox": [
           {
            "marker": {
             "colorbar": {
              "outlinewidth": 0,
              "ticks": ""
             }
            },
            "type": "scattermapbox"
           }
          ],
          "scatterpolar": [
           {
            "marker": {
             "colorbar": {
              "outlinewidth": 0,
              "ticks": ""
             }
            },
            "type": "scatterpolar"
           }
          ],
          "scatterpolargl": [
           {
            "marker": {
             "colorbar": {
              "outlinewidth": 0,
              "ticks": ""
             }
            },
            "type": "scatterpolargl"
           }
          ],
          "scatterternary": [
           {
            "marker": {
             "colorbar": {
              "outlinewidth": 0,
              "ticks": ""
             }
            },
            "type": "scatterternary"
           }
          ],
          "surface": [
           {
            "colorbar": {
             "outlinewidth": 0,
             "ticks": ""
            },
            "colorscale": [
             [
              0,
              "#0d0887"
             ],
             [
              0.1111111111111111,
              "#46039f"
             ],
             [
              0.2222222222222222,
              "#7201a8"
             ],
             [
              0.3333333333333333,
              "#9c179e"
             ],
             [
              0.4444444444444444,
              "#bd3786"
             ],
             [
              0.5555555555555556,
              "#d8576b"
             ],
             [
              0.6666666666666666,
              "#ed7953"
             ],
             [
              0.7777777777777778,
              "#fb9f3a"
             ],
             [
              0.8888888888888888,
              "#fdca26"
             ],
             [
              1,
              "#f0f921"
             ]
            ],
            "type": "surface"
           }
          ],
          "table": [
           {
            "cells": {
             "fill": {
              "color": "#EBF0F8"
             },
             "line": {
              "color": "white"
             }
            },
            "header": {
             "fill": {
              "color": "#C8D4E3"
             },
             "line": {
              "color": "white"
             }
            },
            "type": "table"
           }
          ]
         },
         "layout": {
          "annotationdefaults": {
           "arrowcolor": "#2a3f5f",
           "arrowhead": 0,
           "arrowwidth": 1
          },
          "coloraxis": {
           "colorbar": {
            "outlinewidth": 0,
            "ticks": ""
           }
          },
          "colorscale": {
           "diverging": [
            [
             0,
             "#8e0152"
            ],
            [
             0.1,
             "#c51b7d"
            ],
            [
             0.2,
             "#de77ae"
            ],
            [
             0.3,
             "#f1b6da"
            ],
            [
             0.4,
             "#fde0ef"
            ],
            [
             0.5,
             "#f7f7f7"
            ],
            [
             0.6,
             "#e6f5d0"
            ],
            [
             0.7,
             "#b8e186"
            ],
            [
             0.8,
             "#7fbc41"
            ],
            [
             0.9,
             "#4d9221"
            ],
            [
             1,
             "#276419"
            ]
           ],
           "sequential": [
            [
             0,
             "#0d0887"
            ],
            [
             0.1111111111111111,
             "#46039f"
            ],
            [
             0.2222222222222222,
             "#7201a8"
            ],
            [
             0.3333333333333333,
             "#9c179e"
            ],
            [
             0.4444444444444444,
             "#bd3786"
            ],
            [
             0.5555555555555556,
             "#d8576b"
            ],
            [
             0.6666666666666666,
             "#ed7953"
            ],
            [
             0.7777777777777778,
             "#fb9f3a"
            ],
            [
             0.8888888888888888,
             "#fdca26"
            ],
            [
             1,
             "#f0f921"
            ]
           ],
           "sequentialminus": [
            [
             0,
             "#0d0887"
            ],
            [
             0.1111111111111111,
             "#46039f"
            ],
            [
             0.2222222222222222,
             "#7201a8"
            ],
            [
             0.3333333333333333,
             "#9c179e"
            ],
            [
             0.4444444444444444,
             "#bd3786"
            ],
            [
             0.5555555555555556,
             "#d8576b"
            ],
            [
             0.6666666666666666,
             "#ed7953"
            ],
            [
             0.7777777777777778,
             "#fb9f3a"
            ],
            [
             0.8888888888888888,
             "#fdca26"
            ],
            [
             1,
             "#f0f921"
            ]
           ]
          },
          "colorway": [
           "#636efa",
           "#EF553B",
           "#00cc96",
           "#ab63fa",
           "#FFA15A",
           "#19d3f3",
           "#FF6692",
           "#B6E880",
           "#FF97FF",
           "#FECB52"
          ],
          "font": {
           "color": "#2a3f5f"
          },
          "geo": {
           "bgcolor": "white",
           "lakecolor": "white",
           "landcolor": "#E5ECF6",
           "showlakes": true,
           "showland": true,
           "subunitcolor": "white"
          },
          "hoverlabel": {
           "align": "left"
          },
          "hovermode": "closest",
          "mapbox": {
           "style": "light"
          },
          "paper_bgcolor": "white",
          "plot_bgcolor": "#E5ECF6",
          "polar": {
           "angularaxis": {
            "gridcolor": "white",
            "linecolor": "white",
            "ticks": ""
           },
           "bgcolor": "#E5ECF6",
           "radialaxis": {
            "gridcolor": "white",
            "linecolor": "white",
            "ticks": ""
           }
          },
          "scene": {
           "xaxis": {
            "backgroundcolor": "#E5ECF6",
            "gridcolor": "white",
            "gridwidth": 2,
            "linecolor": "white",
            "showbackground": true,
            "ticks": "",
            "zerolinecolor": "white"
           },
           "yaxis": {
            "backgroundcolor": "#E5ECF6",
            "gridcolor": "white",
            "gridwidth": 2,
            "linecolor": "white",
            "showbackground": true,
            "ticks": "",
            "zerolinecolor": "white"
           },
           "zaxis": {
            "backgroundcolor": "#E5ECF6",
            "gridcolor": "white",
            "gridwidth": 2,
            "linecolor": "white",
            "showbackground": true,
            "ticks": "",
            "zerolinecolor": "white"
           }
          },
          "shapedefaults": {
           "line": {
            "color": "#2a3f5f"
           }
          },
          "ternary": {
           "aaxis": {
            "gridcolor": "white",
            "linecolor": "white",
            "ticks": ""
           },
           "baxis": {
            "gridcolor": "white",
            "linecolor": "white",
            "ticks": ""
           },
           "bgcolor": "#E5ECF6",
           "caxis": {
            "gridcolor": "white",
            "linecolor": "white",
            "ticks": ""
           }
          },
          "title": {
           "x": 0.05
          },
          "xaxis": {
           "automargin": true,
           "gridcolor": "white",
           "linecolor": "white",
           "ticks": "",
           "title": {
            "standoff": 15
           },
           "zerolinecolor": "white",
           "zerolinewidth": 2
          },
          "yaxis": {
           "automargin": true,
           "gridcolor": "white",
           "linecolor": "white",
           "ticks": "",
           "title": {
            "standoff": 15
           },
           "zerolinecolor": "white",
           "zerolinewidth": 2
          }
         }
        },
        "xaxis": {
         "anchor": "y2",
         "domain": [
          0,
          1
         ],
         "zeroline": false
        },
        "yaxis": {
         "anchor": "free",
         "domain": [
          0.35,
          1
         ],
         "position": 0
        },
        "yaxis2": {
         "anchor": "x",
         "domain": [
          0,
          0.25
         ],
         "dtick": 1,
         "showticklabels": false
        }
       }
      },
      "text/html": [
       "<div>\n",
       "        \n",
       "        \n",
       "            <div id=\"7bb1a544-b9c0-4a5b-8b03-d4f9488d5458\" class=\"plotly-graph-div\" style=\"height:525px; width:100%;\"></div>\n",
       "            <script type=\"text/javascript\">\n",
       "                require([\"plotly\"], function(Plotly) {\n",
       "                    window.PLOTLYENV=window.PLOTLYENV || {};\n",
       "                    \n",
       "                if (document.getElementById(\"7bb1a544-b9c0-4a5b-8b03-d4f9488d5458\")) {\n",
       "                    Plotly.newPlot(\n",
       "                        '7bb1a544-b9c0-4a5b-8b03-d4f9488d5458',\n",
       "                        [{\"autobinx\": false, \"histnorm\": \"\", \"legendgroup\": \"ex_returns\", \"marker\": {\"color\": \"rgb(31, 119, 180)\"}, \"name\": \"ex_returns\", \"opacity\": 0.7, \"type\": \"histogram\", \"x\": [0.003016061084781488, -0.17759463284087135, -0.3451077454122416, 0.2877661108489329, -0.0038584895884051576, 0.16173576786648847, -0.08728850097271147, -0.14245803129771123, -0.4622731516407, -0.1042307463574189, 0.5508644375278523, 0.42879878048780484, 0.15404822162968299, -0.2155404082135317, 0.38487268940380104, 0.4379114548667693, 0.07830521080277048, 0.5588402868947958, -0.3157606683392227, -0.45433866574836435, 0.06359581030141383, 0.33391089108910893, 0.27051438872078776, -0.5479603050048898, -0.27483101429990264, -0.04342165909915563, -0.25381434235167827, -0.4221489598178062, -0.03175111423879896, -0.17209043094710683, -0.06609717177446628, 0.8042625221204893, -0.018270662022807915, -0.026934121688946377, -0.026934121688946377, -0.1688883164249324, 0.013195771138362969, 0.10384565738673704, -0.19553886129496606, -0.015470316314340619, 0.30184489051094904, -0.13924268502581752, 0.32569412049391355, 0.192712806565512, 0.062244224422442276, 0.3753627264529147, -0.010258643344680352, 0.04808480565371015, -0.15837892060011494, -0.26181507890122735, 0.023032113517550495, 0.07956457318586704, -0.31665115356222706, 0.699294907827236, 0.23189233353912694, 0.30448807783939635, -0.36471098016436765, 0.2727655780107533, 0.13093358342569675, -0.17684697859776977, -0.182987137724757, 3.6668869368205574, -0.2780172413793102, -0.3008689198199033, -0.3963901766622095, 0.004796427278629736, 0.16803948667324786, -0.24052314325454988, 0.2884347038446942, -0.04070778680522981, -0.13093871294084297, -0.19733257353739272, 0.10386383992600431, -0.0370240682604847, -0.2085113751975238, -0.14991492748420843, 0.4922726342766077, 0.08220602273713438, 0.6199522963588705, 0.03994999910866366, -0.12882267969247416, 0.9617122250455583, 0.06922631396635148, -0.1140409186199996, -0.3710114692683846, 0.6414425218060357, -0.08197485054627891, 0.24697380969848132, 0.17082121273776077, 0.08177186687509619, -0.30100063320669196, -0.10892521940892697, 0.06642502884192246, -0.08285655355477448, -0.26739466013757734, -0.12412249152783597, 0.022717597203507196, -0.047818335748007534, -0.047818335748007534, 0.1798401324220419, 0.2627115588802066, -0.36549789324355786, 0.06304999279307785, 0.018338038266792252, 0.09444142390681926, -0.2753001715265866, 0.01783485774915869, 0.12571089108910896, 0.1536859141888562, 0.4095195729537365], \"xaxis\": \"x\", \"xbins\": {\"end\": 3.6668869368205574, \"size\": 0.05, \"start\": -0.5479603050048898}, \"yaxis\": \"y\"}, {\"legendgroup\": \"ex_returns\", \"marker\": {\"color\": \"rgb(31, 119, 180)\"}, \"mode\": \"lines\", \"name\": \"ex_returns\", \"showlegend\": false, \"type\": \"scatter\", \"x\": [-0.5479603050048898, -0.5395306105212389, -0.531100916037588, -0.5226712215539371, -0.5142415270702863, -0.5058118325866353, -0.49738213810298443, -0.48895244361933354, -0.4805227491356826, -0.4720930546520318, -0.46366336016838083, -0.45523366568472995, -0.44680397120107906, -0.4383742767174282, -0.42994458223377724, -0.42151488775012635, -0.41308519326647547, -0.4046554987828246, -0.3962258042991737, -0.3877961098155228, -0.3793664153318719, -0.370936720848221, -0.3625070263645701, -0.3540773318809192, -0.34564763739726834, -0.3372179429136174, -0.32878824842996657, -0.3203585539463156, -0.3119288594626647, -0.30349916497901386, -0.2950694704953629, -0.28663977601171203, -0.27821008152806115, -0.26978038704441026, -0.2613506925607593, -0.2529209980771085, -0.2444913035934576, -0.23606160910980667, -0.22763191462615578, -0.2192022201425049, -0.21077252565885402, -0.20234283117520313, -0.1939131366915522, -0.1854834422079013, -0.17705374772425042, -0.16862405324059948, -0.16019435875694865, -0.15176466427329777, -0.14333496978964683, -0.13490527530599594, -0.126475580822345, -0.11804588633869417, -0.10961619185504329, -0.10118649737139235, -0.09275680288774146, -0.08432710840409058, -0.07589741392043964, -0.06746771943678881, -0.05903802495313787, -0.050608330469486984, -0.042178635985836044, -0.033748941502185215, -0.025319247018534274, -0.016889552534883445, -0.008459858051232505, -3.01635675815648e-05, 0.008399530916069264, 0.016829225399720205, 0.025258919883371145, 0.033688614367021974, 0.0421183088506728, 0.05054800333432374, 0.05897769781797457, 0.06740739230162551, 0.07583708678527645, 0.08426678126892728, 0.09269647575257822, 0.10112617023622916, 0.10955586471987999, 0.11798555920353093, 0.12641525368718176, 0.1348449481708327, 0.14327464265448353, 0.15170433713813447, 0.1601340316217854, 0.16856372610543624, 0.17699342058908718, 0.18542311507273812, 0.19385280955638895, 0.2022825040400399, 0.21071219852369083, 0.21914189300734155, 0.2275715874909925, 0.23600128197464343, 0.24443097645829426, 0.2528606709419452, 0.26129036542559614, 0.2697200599092471, 0.2781497543928979, 0.28657944887654885, 0.2950091433601998, 0.3034388378438506, 0.31186853232750145, 0.3202982268111524, 0.3287279212948032, 0.33715761577845416, 0.3455873102621051, 0.3540170047457559, 0.36244669922940687, 0.3708763937130578, 0.37930608819670864, 0.3877357826803596, 0.3961654771640105, 0.40459517164766123, 0.4130248661313122, 0.4214545606149631, 0.42988425509861405, 0.4383139495822649, 0.4467436440659158, 0.45517333854956665, 0.4636030330332177, 0.47203272751686853, 0.48046242200051936, 0.4888921164841704, 0.49732181096782124, 0.5057515054514721, 0.5141811999351229, 0.522610894418774, 0.5310405889024248, 0.5394702833860756, 0.5478999778697267, 0.5563296723533773, 0.5647593668370283, 0.5731890613206791, 0.5816187558043302, 0.590048450287981, 0.5984781447716321, 0.6069078392552827, 0.6153375337389337, 0.6237672282225846, 0.6321969227062354, 0.6406266171898864, 0.6490563116735373, 0.6574860061571883, 0.6659157006408389, 0.67434539512449, 0.6827750896081408, 0.6912047840917919, 0.6996344785754427, 0.7080641730590937, 0.7164938675427444, 0.7249235620263952, 0.7333532565100462, 0.7417829509936971, 0.7502126454773481, 0.758642339960999, 0.7670720344446498, 0.7755017289283006, 0.7839314234119517, 0.7923611178956025, 0.8007908123792533, 0.8092205068629044, 0.8176502013465552, 0.826079895830206, 0.8345095903138569, 0.8429392847975079, 0.8513689792811587, 0.8597986737648098, 0.8682283682484606, 0.8766580627321114, 0.8850877572157623, 0.8935174516994131, 0.9019471461830642, 0.910376840666715, 0.918806535150366, 0.9272362296340166, 0.9356659241176677, 0.9440956186013185, 0.9525253130849696, 0.9609550075686204, 0.9693847020522715, 0.9778143965359223, 0.9862440910195729, 0.9946737855032239, 1.0031034799868748, 1.0115331744705258, 1.0199628689541766, 1.0283925634378277, 1.0368222579214783, 1.0452519524051294, 1.0536816468887802, 1.0621113413724312, 1.070541035856082, 1.078970730339733, 1.087400424823384, 1.0958301193070346, 1.1042598137906856, 1.1126895082743364, 1.1211192027579875, 1.1295488972416383, 1.1379785917252894, 1.14640828620894, 1.154837980692591, 1.1632676751762419, 1.1716973696598927, 1.1801270641435437, 1.1885567586271946, 1.1969864531108454, 1.2054161475944962, 1.2138458420781473, 1.222275536561798, 1.2307052310454492, 1.2391349255291, 1.247564620012751, 1.2559943144964016, 1.2644240089800525, 1.2728537034637035, 1.2812833979473544, 1.2897130924310054, 1.2981427869146562, 1.306572481398307, 1.315002175881958, 1.323431870365609, 1.3318615648492598, 1.3402912593329108, 1.3487209538165617, 1.3571506483002123, 1.3655803427838633, 1.3740100372675141, 1.3824397317511652, 1.390869426234816, 1.399299120718467, 1.407728815202118, 1.4161585096857687, 1.4245882041694196, 1.4330178986530704, 1.4414475931367214, 1.4498772876203723, 1.458306982104023, 1.4667366765876741, 1.4751663710713252, 1.4835960655549758, 1.4920257600386269, 1.500455454522278, 1.5088851490059285, 1.5173148434895796, 1.5257445379732306, 1.5341742324568812, 1.5426039269405323, 1.5510336214241829, 1.559463315907834, 1.5678930103914845, 1.5763227048751356, 1.5847523993587866, 1.5931820938424377, 1.6016117883260883, 1.6100414828097394, 1.6184711772933904, 1.626900871777041, 1.635330566260692, 1.6437602607443431, 1.6521899552279942, 1.6606196497116443, 1.6690493441952954, 1.6774790386789464, 1.6859087331625975, 1.694338427646248, 1.7027681221298991, 1.7111978166135502, 1.7196275110972008, 1.7280572055808519, 1.736486900064503, 1.744916594548154, 1.7533462890318046, 1.7617759835154552, 1.7702056779991062, 1.7786353724827573, 1.7870650669664079, 1.795494761450059, 1.80392445593371, 1.8123541504173606, 1.8207838449010116, 1.8292135393846627, 1.8376432338683137, 1.8460729283519643, 1.8545026228356154, 1.8629323173192665, 1.871362011802917, 1.8797917062865677, 1.8882214007702187, 1.8966510952538698, 1.9050807897375204, 1.9135104842211714, 1.9219401787048225, 1.9303698731884735, 1.9387995676721241, 1.9472292621557752, 1.9556589566394262, 1.9640886511230773, 1.972518345606728, 1.9809480400903785, 1.9893777345740296, 1.9978074290576802, 2.0062371235413314, 2.014666818024982, 2.0230965125086335, 2.031526206992284, 2.0399559014759348, 2.0483855959595862, 2.056815290443237, 2.0652449849268875, 2.073674679410539, 2.0821043738941896, 2.09053406837784, 2.098963762861491, 2.1073934573451423, 2.115823151828793, 2.1242528463124435, 2.132682540796095, 2.1411122352797456, 2.149541929763396, 2.1579716242470477, 2.1664013187306983, 2.17483101321435, 2.1832607076980004, 2.191690402181651, 2.2001200966653016, 2.208549791148953, 2.2169794856326037, 2.2254091801162543, 2.233838874599906, 2.2422685690835564, 2.250698263567207, 2.2591279580508585, 2.267557652534509, 2.2759873470181597, 2.2844170415018112, 2.292846735985462, 2.3012764304691125, 2.309706124952763, 2.3181358194364146, 2.326565513920065, 2.3349952084037158, 2.3434249028873673, 2.351854597371018, 2.3602842918546694, 2.36871398633832, 2.3771436808219706, 2.385573375305622, 2.3940030697892727, 2.4024327642729233, 2.410862458756574, 2.4192921532402254, 2.427721847723876, 2.4361515422075266, 2.444581236691178, 2.4530109311748287, 2.4614406256584793, 2.469870320142131, 2.4783000146257814, 2.486729709109433, 2.4951594035930835, 2.503589098076734, 2.5120187925603847, 2.5204484870440353, 2.528878181527687, 2.5373078760113374, 2.545737570494989, 2.5541672649786396, 2.56259695946229, 2.5710266539459417, 2.5794563484295923, 2.587886042913243, 2.5963157373968944, 2.604745431880545, 2.6131751263641956, 2.621604820847846, 2.6300345153314977, 2.6384642098151483, 2.646893904298799, 2.6553235987824504, 2.663753293266101, 2.6721829877497525, 2.680612682233403, 2.6890423767170537, 2.697472071200705, 2.705901765684356, 2.7143314601680064, 2.722761154651658, 2.7311908491353085, 2.739620543618959, 2.7480502381026097, 2.7564799325862612, 2.764909627069912, 2.7733393215535624, 2.781769016037214, 2.7901987105208645, 2.798628405004515, 2.8070580994881666, 2.8154877939718173, 2.8239174884554687, 2.8323471829391185, 2.84077687742277, 2.8492065719064206, 2.857636266390072, 2.8660659608737227, 2.8744956553573733, 2.8829253498410248, 2.8913550443246754, 2.899784738808326, 2.9082144332919775, 2.916644127775628, 2.9250738222592787, 2.93350351674293, 2.941933211226581, 2.9503629057102314, 2.958792600193882, 2.9672222946775335, 2.975651989161184, 2.9840816836448347, 2.992511378128486, 3.000941072612137, 3.0093707670957883, 3.017800461579439, 3.0262301560630895, 3.034659850546741, 3.0430895450303916, 3.0515192395140422, 3.059948933997693, 3.0683786284813444, 3.076808322964995, 3.0852380174486456, 3.093667711932297, 3.1020974064159477, 3.1105271008995983, 3.1189567953832498, 3.1273864898669004, 3.135816184350552, 3.1442458788342025, 3.152675573317853, 3.1611052678015037, 3.1695349622851543, 3.177964656768806, 3.1863943512524564, 3.194824045736108, 3.2032537402197585, 3.211683434703409, 3.2201131291870606, 3.228542823670711, 3.236972518154362, 3.2454022126380133, 3.253831907121664, 3.2622616016053145, 3.270691296088965, 3.2791209905726166, 3.2875506850562672, 3.295980379539918, 3.3044100740235693, 3.31283976850722, 3.3212694629908706, 3.329699157474522, 3.3381288519581727, 3.346558546441824, 3.3549882409254748, 3.3634179354091254, 3.371847629892776, 3.3802773243764275, 3.388707018860078, 3.3971367133437287, 3.40556640782738, 3.413996102311031, 3.4224257967946814, 3.430855491278333, 3.4392851857619835, 3.447714880245634, 3.4561445747292856, 3.464574269212936, 3.4730039636965877, 3.4814336581802383, 3.489863352663889, 3.4982930471475404, 3.506722741631191, 3.5151524361148416, 3.523582130598493, 3.5320118250821437, 3.5404415195657943, 3.548871214049446, 3.5573009085330964, 3.565730603016747, 3.5741602975003985, 3.582589991984049, 3.5910196864676998, 3.5994493809513513, 3.607879075435002, 3.6163087699186525, 3.624738464402304, 3.6331681588859546, 3.641597853369605, 3.650027547853256, 3.6584572423369064], \"xaxis\": \"x\", \"y\": [0.2479587186931165, 0.26247498382531975, 0.2775001316711272, 0.2930291820497075, 0.30905561736387693, 0.3255713718027823, 0.34256682805630845, 0.36003082145117205, 0.3779506513257873, 0.39631209936974193, 0.4150994545659088, 0.4342955442907943, 0.4538817710535198, 0.4738381542877145, 0.4941433765553674, 0.5147748334789011, 0.5357086866889087, 0.556919919061334, 0.5783823915203197, 0.6000689007022055, 0.621951236812466, 0.6440002410607398, 0.6661858621290156, 0.6884772112136561, 0.7108426152819516, 0.7332496682966438, 0.7556652802851528, 0.77805572426171, 0.8003866811472957, 0.8226232829712016, 0.8447301547756827, 0.866671455778122, 0.8884109204696251, 0.9099119004414262, 0.9311374078272305, 0.9520501613272333, 0.9726126358348488, 0.9927871167172462, 1.0125357598032745, 1.031820658105312, 1.050603916243725, 1.0688477334533537, 1.0865144959308488, 1.1035668791306337, 1.1199679604374624, 1.1356813424373882, 1.1506712867797921, 1.1649028583748586, 1.1783420794082595, 1.1909560923831524, 1.2027133311246272, 1.2135836984097836, 1.2235387486240767, 1.2325518735979566, 1.2405984895538826, 1.2476562228984724, 1.2537050924341688, 1.2587276854443377, 1.262709325030114, 1.2656382260501333, 1.2675056370384408, 1.2683059655529305, 1.268036884537182, 1.2666994174617077, 1.2642980002443598, 1.2608405182306746, 1.2563383168386721, 1.2508061848334768, 1.2442623095882595, 1.2367282041019783, 1.228228605972701, 1.2187913489593487, 1.2084472081950959, 1.1972297205334235, 1.1851749819037798, 1.1723214239192217, 1.1587095723054923, 1.144381790002196, 1.1293820080161665, 1.113755447279615, 1.0975483348776105, 1.080807618058592, 1.0635806794272924, 1.0459150566423272, 1.027858169803053, 1.0094570595158927, 0.9907581383840105, 0.9718069583723257, 0.9526479961694504, 0.9333244583073572, 0.9138781074168949, 0.8943491106017571, 0.8747759105141313, 0.8551951193210817, 0.8356414353702274, 0.8161475820045885, 0.796744267646743, 0.7774601659780229, 0.758321914784523, 0.7393541318322195, 0.7205794459712249, 0.7020185415555349, 0.6836902141996692, 0.6656114358762626, 0.6477974273865154, 0.6302617363051792, 0.6130163186089711, 0.5960716223369729, 0.5794366717978793, 0.56311915102582, 0.5471254853875176, 0.5314609204523503, 0.516129597447242, 0.5011346248242141, 0.4864781456645431, 0.4721614008248087, 0.4581847878926686, 0.4445479161605589, 0.4312496579412599, 0.41828819663880107, 0.4056610720507907, 0.39336522341414193, 0.3813970307162702, 0.369752354779893, 0.35842657659390204, 0.3474146363082997, 0.33671107224123475, 0.3263100601642731, 0.3162054530420878, 0.30639082130844075, 0.2968594936655277, 0.28760459830193996, 0.2786191043389574, 0.2698958632385717, 0.261427649841884, 0.25320720265543717, 0.24522726296686467, 0.23748061235101225, 0.22996010812356024, 0.2226587163110568, 0.2155695417333151, 0.20868585483525548, 0.20200111495878384, 0.19550898980935086, 0.18920337094419493, 0.18307838518755318, 0.17712840195988985, 0.1713480365908562, 0.16573214976687128, 0.1602758433414831, 0.15497445280791503, 0.14982353679646623, 0.14481886401309443, 0.13995639807821567, 0.13523228075556878, 0.13064281407926356, 0.1261844418926397, 0.12185373130540711, 0.11764735455618161, 0.1135620717367481, 0.10959471479323904, 0.10574217316922532, 0.10200138139799161, 0.0983693088876811, 0.09484295207533752, 0.09141932905595235, 0.0880954767223127, 0.08486845038250693, 0.08173532575610748, 0.07869320318886332, 0.07573921387062557, 0.07287052779338027, 0.07008436314666852, 0.06737799681706762, 0.06474877563726396, 0.06219412801881485, 0.059711575600921316, 0.05729874455516868, 0.05495337620270739, 0.052673336625063696, 0.05045662498176199, 0.04830138028618593, 0.04620588643441955, 0.044168575328943666, 0.04218802798871047, 0.04026297358795194, 0.03839228641680591, 0.03657498080620172, 0.03481020410628199, 0.03309722785087906, 0.0314354372793018, 0.029824319420131005, 0.02826344996928068, 0.026752479215806046, 0.025291117283584432, 0.02387911896497487, 0.022516268423967808, 0.02120236404142727, 0.0199372036641865, 0.018720570503529235, 0.01755221990759128, 0.016431867207185015, 0.015359176806256753, 0.014333752657470996, 0.013355130231099351, 0.012422770052325779, 0.011536052849053671, 0.010694276320077701, 0.009896653502755341, 0.009142312690689087, 0.008430298825937401, 0.007759576267333265, 0.007129032816929305, 0.006537484870624567, 0.005983683546781763, 0.005466321638129884, 0.0049840412273979015, 0.004535441805782932, 0.004119088735295263, 0.0037335219009548065, 0.0033772644064006857, 0.003048831176346473, 0.00274673734106969, 0.002469506291359208, 0.0022156773066482663, 0.0019838126740383787, 0.0017725042311904395, 0.0015803792812749068, 0.0014061058430155009, 0.001248397213052111, 0.0011060158311532846, 0.0009777764510328394, 0.0008625486305217161, 0.0007592585645091408, 0.0006668902923336936, 0.0005844863181494215, 0.0005111476882254793, 0.00044603357320045713, 0.0003883604060727762, 0.0003374006282553747, 0.0002924810964628868, 0.0002529812026517713, 0.00021833075782503502, 0.00018800768837443289, 0.00016153559089512358, 0.00013848118819904148, 0.0001184517256959597, 0.00010109234351955674, 8.608345585472469e-05, 7.313816496520784e-05, 6.199973350954023e-05, 5.2439134937977774e-05, 4.4252698141212934e-05, 3.725985911921107e-05, 3.1301029289964914e-05, 2.6235587187692612e-05, 2.1939997722657464e-05, 1.8306060896668253e-05, 1.523928988842129e-05, 1.2657416733919877e-05, 1.0489022416997367e-05, 8.672287037163407e-06, 7.153854817356396e-06, 5.887808031373556e-06, 4.8347434472176835e-06, 3.96094457527885e-06, 3.2376428562232776e-06, 2.6403609003441107e-06, 2.1483309766671384e-06, 1.7439821263357845e-06, 1.412489522363718e-06, 1.141380000076551e-06, 9.201880246146351e-07, 7.401567306948226e-07, 5.939790541727194e-07, 4.7557436527246304e-07, 3.7989640173464864e-07, 3.0276868015129303e-07, 2.4074393034553945e-07, 1.909844469668378e-07, 1.5116058173559147e-07, 1.1936490713765772e-07, 9.40398667796909e-08, 7.39169886699048e-08, 5.796597552045851e-08, 4.535220133841805e-08, 3.540133697167259e-08, 2.757000003591408e-08, 2.142147806818284e-08, 1.6605709235920728e-08, 1.2842823934796459e-08, 9.909654600779947e-09, 7.62871148522506e-09, 5.859200389657508e-09, 4.489725754280871e-09, 3.4323802835077803e-09, 2.6179716249928258e-09, 1.9921785525582608e-09, 1.5124645985747614e-09, 1.1456070033588792e-09, 8.657239717886979e-10, 6.527042373873837e-10, 4.909604368814535e-10, 3.6844232378123383e-10, 2.7585785919710034e-10, 2.060601110827896e-10, 1.5356601286557665e-10, 1.1417967294349782e-10, 8.46983380931451e-11, 6.268350848006331e-11, 4.6283258475763225e-11, 3.4094685884959765e-11, 2.5057717797560046e-11, 1.8373348328494874e-11, 1.344085829934631e-11, 9.809740612105021e-12, 7.142986102236827e-12, 5.189120824132092e-12, 3.760965943262786e-12, 2.719547269341922e-12, 1.961938490536756e-12, 1.4121009141754205e-12, 1.0139994722207602e-12, 7.264430875453012e-13, 5.192277132546729e-13, 3.7026077828455016e-13, 2.6342298156101744e-13, 1.869825611571066e-13, 1.3242239683995044e-13, 9.357477112480878e-14, 6.598480087318466e-14, 4.6443390550517454e-14, 3.264554640710873e-14, 2.2941184312109365e-14, 1.6154053286414324e-14, 1.1450766073270908e-14, 8.24670187821004e-15, 6.139126471611665e-15, 4.860569178221982e-15, 4.247541932774537e-15, 4.221266716830762e-15, 4.778339980643705e-15, 5.990324996128054e-15, 8.012227423102918e-15, 1.1100769268738948e-14, 1.5644425055336815e-14, 2.2208422117779055e-14, 3.15994513167168e-14, 4.495682756729413e-14, 6.387946111567603e-14, 9.060148137425819e-14, 1.2823399513767621e-13, 1.8109665102554582e-13, 2.5517093222649817e-13, 3.587180754185587e-13, 5.031190811885033e-13, 7.040135648475108e-13, 9.828396520167114e-13, 1.3689106295835086e-12, 1.9022080366783935e-12, 2.6371284213670332e-12, 3.647496057161897e-12, 5.033251552767049e-12, 6.929352899284664e-12, 9.517589175715505e-12, 1.3042218075548084e-11, 1.7830609430591857e-11, 2.432042401265561e-11, 3.309530005445665e-11, 4.4931583937217253e-11, 6.085935700351392e-11, 8.224191524377973e-11, 1.108789990265872e-10, 1.4914050274806532e-10, 2.001391882173128e-10, 2.6795316434345473e-10, 3.579116800978816e-10, 4.769612289616981e-10, 6.3413322605199e-10, 8.411397663679775e-10, 1.113130408490271e-09, 1.469650793536117e-09, 1.9358534867770563e-09, 2.544023048665075e-09, 3.3354913854350923e-09, 4.363036337883766e-09, 5.6938767457638815e-09, 7.413401450000482e-09, 9.629798516507246e-09, 1.2479785114476264e-08, 1.613567877246048e-08, 2.0814098065980947e-08, 2.6786636143705264e-08, 3.439291493925202e-08, 4.405650258026038e-08, 5.6304262596002613e-08, 7.178980228620205e-08, 9.132180031674753e-08, 1.1589812151560006e-07, 1.4674677117223073e-07, 1.853749030209233e-07, 2.3362727548562765e-07, 2.937557504348517e-07, 3.6850164809019693e-07, 4.6119301090838505e-07, 5.758590877677288e-07, 7.173646265732553e-07, 8.915668566350761e-07, 1.1054983491730697e-06, 1.3675792613201756e-06, 1.6878627911138478e-06, 2.078317991919591e-06, 2.5531544067730518e-06, 3.129193276881153e-06, 3.826290342872416e-06, 4.667815479369173e-06, 5.6811945682034655e-06, 6.8985191063437045e-06, 8.357229042673604e-06, 1.0100874222748837e-05, 1.2179959570527849e-05, 1.4652878727511269e-05, 1.7586940278464923e-05, 2.1059489894199093e-05, 2.515913069118982e-05, 2.998704282138394e-05, 3.565840174132746e-05, 4.230389274842646e-05, 5.007131719799749e-05, 5.912728331707575e-05, 6.965897170501909e-05, 8.187596245963259e-05, 9.60121074022229e-05, 0.00011232742711737724, 0.00013111000850599185, 0.00015267787431836986, 0.00017738079174646067, 0.00020560198268305252, 0.0002377596937875042, 0.00027430858013403393, 0.00031574085207428207, 0.0003625871311498178, 0.0004154169575819099, 0.00047483888919523003, 0.0005415001297560362, 0.000616085623784064, 0.000699316555092447, 0.0007919481877766393, 0.0008947669912602188, 0.0010085869954445372, 0.0011342453281127582, 0.0012725968945950068, 0.0014245081693637738, 0.001590850080715481, 0.0017724899829808561, 0.001970282725719994, 0.0021850608459758813, 0.0024176239277027556, 0.0026687271917229293, 0.00293906939970679, 0.003229280176371792, 0.003539906874966483, 0.0038714011317018096, 0.004224105274635493, 0.004598238771100583, 0.004993884914560915, 0.005410977966246161, 0.0058492909785305925, 0.006308424535268794, 0.006787796648711685, 0.007286634052781386, 0.007803965128026058, 0.008338614684238502, 0.008889200812329986, 0.009454133997538371, 0.010031618661464637, 0.01061965727096008, 0.011216057117826155, 0.011818439835078694, 0.012424253673736885, 0.013030788519395585, 0.01363519358103391, 0.01423449763647857, 0.014825631670646166, 0.0154054536951518, 0.015970775492144505, 0.01651839098236408, 0.017045105878450467, 0.017547768250457695, 0.018023299602235577, 0.018468726035657423, 0.01888120906525997, 0.019258075639254527, 0.01959684692442678, 0.01989526542234364, 0.02015132000251418, 0.020363268464504966, 0.020529657275080958, 0.02064933816764243, 0.020721481338794777], \"yaxis\": \"y\"}, {\"legendgroup\": \"ex_returns\", \"marker\": {\"color\": \"rgb(31, 119, 180)\", \"symbol\": \"line-ns-open\"}, \"mode\": \"markers\", \"name\": \"ex_returns\", \"showlegend\": false, \"type\": \"scatter\", \"x\": [0.003016061084781488, -0.17759463284087135, -0.3451077454122416, 0.2877661108489329, -0.0038584895884051576, 0.16173576786648847, -0.08728850097271147, -0.14245803129771123, -0.4622731516407, -0.1042307463574189, 0.5508644375278523, 0.42879878048780484, 0.15404822162968299, -0.2155404082135317, 0.38487268940380104, 0.4379114548667693, 0.07830521080277048, 0.5588402868947958, -0.3157606683392227, -0.45433866574836435, 0.06359581030141383, 0.33391089108910893, 0.27051438872078776, -0.5479603050048898, -0.27483101429990264, -0.04342165909915563, -0.25381434235167827, -0.4221489598178062, -0.03175111423879896, -0.17209043094710683, -0.06609717177446628, 0.8042625221204893, -0.018270662022807915, -0.026934121688946377, -0.026934121688946377, -0.1688883164249324, 0.013195771138362969, 0.10384565738673704, -0.19553886129496606, -0.015470316314340619, 0.30184489051094904, -0.13924268502581752, 0.32569412049391355, 0.192712806565512, 0.062244224422442276, 0.3753627264529147, -0.010258643344680352, 0.04808480565371015, -0.15837892060011494, -0.26181507890122735, 0.023032113517550495, 0.07956457318586704, -0.31665115356222706, 0.699294907827236, 0.23189233353912694, 0.30448807783939635, -0.36471098016436765, 0.2727655780107533, 0.13093358342569675, -0.17684697859776977, -0.182987137724757, 3.6668869368205574, -0.2780172413793102, -0.3008689198199033, -0.3963901766622095, 0.004796427278629736, 0.16803948667324786, -0.24052314325454988, 0.2884347038446942, -0.04070778680522981, -0.13093871294084297, -0.19733257353739272, 0.10386383992600431, -0.0370240682604847, -0.2085113751975238, -0.14991492748420843, 0.4922726342766077, 0.08220602273713438, 0.6199522963588705, 0.03994999910866366, -0.12882267969247416, 0.9617122250455583, 0.06922631396635148, -0.1140409186199996, -0.3710114692683846, 0.6414425218060357, -0.08197485054627891, 0.24697380969848132, 0.17082121273776077, 0.08177186687509619, -0.30100063320669196, -0.10892521940892697, 0.06642502884192246, -0.08285655355477448, -0.26739466013757734, -0.12412249152783597, 0.022717597203507196, -0.047818335748007534, -0.047818335748007534, 0.1798401324220419, 0.2627115588802066, -0.36549789324355786, 0.06304999279307785, 0.018338038266792252, 0.09444142390681926, -0.2753001715265866, 0.01783485774915869, 0.12571089108910896, 0.1536859141888562, 0.4095195729537365], \"xaxis\": \"x\", \"y\": [\"ex_returns\", \"ex_returns\", \"ex_returns\", \"ex_returns\", \"ex_returns\", \"ex_returns\", \"ex_returns\", \"ex_returns\", \"ex_returns\", \"ex_returns\", \"ex_returns\", \"ex_returns\", \"ex_returns\", \"ex_returns\", \"ex_returns\", \"ex_returns\", \"ex_returns\", \"ex_returns\", \"ex_returns\", \"ex_returns\", \"ex_returns\", \"ex_returns\", \"ex_returns\", \"ex_returns\", \"ex_returns\", \"ex_returns\", \"ex_returns\", \"ex_returns\", \"ex_returns\", \"ex_returns\", \"ex_returns\", \"ex_returns\", \"ex_returns\", \"ex_returns\", \"ex_returns\", \"ex_returns\", \"ex_returns\", \"ex_returns\", \"ex_returns\", \"ex_returns\", \"ex_returns\", \"ex_returns\", \"ex_returns\", \"ex_returns\", \"ex_returns\", \"ex_returns\", \"ex_returns\", \"ex_returns\", \"ex_returns\", \"ex_returns\", \"ex_returns\", \"ex_returns\", \"ex_returns\", \"ex_returns\", \"ex_returns\", \"ex_returns\", \"ex_returns\", \"ex_returns\", \"ex_returns\", \"ex_returns\", \"ex_returns\", \"ex_returns\", \"ex_returns\", \"ex_returns\", \"ex_returns\", \"ex_returns\", \"ex_returns\", \"ex_returns\", \"ex_returns\", \"ex_returns\", \"ex_returns\", \"ex_returns\", \"ex_returns\", \"ex_returns\", \"ex_returns\", \"ex_returns\", \"ex_returns\", \"ex_returns\", \"ex_returns\", \"ex_returns\", \"ex_returns\", \"ex_returns\", \"ex_returns\", \"ex_returns\", \"ex_returns\", \"ex_returns\", \"ex_returns\", \"ex_returns\", \"ex_returns\", \"ex_returns\", \"ex_returns\", \"ex_returns\", \"ex_returns\", \"ex_returns\", \"ex_returns\", \"ex_returns\", \"ex_returns\", \"ex_returns\", \"ex_returns\", \"ex_returns\", \"ex_returns\", \"ex_returns\", \"ex_returns\", \"ex_returns\", \"ex_returns\", \"ex_returns\", \"ex_returns\", \"ex_returns\", \"ex_returns\", \"ex_returns\"], \"yaxis\": \"y2\"}],\n",
       "                        {\"barmode\": \"overlay\", \"hovermode\": \"closest\", \"legend\": {\"traceorder\": \"reversed\"}, \"template\": {\"data\": {\"bar\": [{\"error_x\": {\"color\": \"#2a3f5f\"}, \"error_y\": {\"color\": \"#2a3f5f\"}, \"marker\": {\"line\": {\"color\": \"#E5ECF6\", \"width\": 0.5}}, \"type\": \"bar\"}], \"barpolar\": [{\"marker\": {\"line\": {\"color\": \"#E5ECF6\", \"width\": 0.5}}, \"type\": \"barpolar\"}], \"carpet\": [{\"aaxis\": {\"endlinecolor\": \"#2a3f5f\", \"gridcolor\": \"white\", \"linecolor\": \"white\", \"minorgridcolor\": \"white\", \"startlinecolor\": \"#2a3f5f\"}, \"baxis\": {\"endlinecolor\": \"#2a3f5f\", \"gridcolor\": \"white\", \"linecolor\": \"white\", \"minorgridcolor\": \"white\", \"startlinecolor\": \"#2a3f5f\"}, \"type\": \"carpet\"}], \"choropleth\": [{\"colorbar\": {\"outlinewidth\": 0, \"ticks\": \"\"}, \"type\": \"choropleth\"}], \"contour\": [{\"colorbar\": {\"outlinewidth\": 0, \"ticks\": \"\"}, \"colorscale\": [[0.0, \"#0d0887\"], [0.1111111111111111, \"#46039f\"], [0.2222222222222222, \"#7201a8\"], [0.3333333333333333, \"#9c179e\"], [0.4444444444444444, \"#bd3786\"], [0.5555555555555556, \"#d8576b\"], [0.6666666666666666, \"#ed7953\"], [0.7777777777777778, \"#fb9f3a\"], [0.8888888888888888, \"#fdca26\"], [1.0, \"#f0f921\"]], \"type\": \"contour\"}], \"contourcarpet\": [{\"colorbar\": {\"outlinewidth\": 0, \"ticks\": \"\"}, \"type\": \"contourcarpet\"}], \"heatmap\": [{\"colorbar\": {\"outlinewidth\": 0, \"ticks\": \"\"}, \"colorscale\": [[0.0, \"#0d0887\"], [0.1111111111111111, \"#46039f\"], [0.2222222222222222, \"#7201a8\"], [0.3333333333333333, \"#9c179e\"], [0.4444444444444444, \"#bd3786\"], [0.5555555555555556, \"#d8576b\"], [0.6666666666666666, \"#ed7953\"], [0.7777777777777778, \"#fb9f3a\"], [0.8888888888888888, \"#fdca26\"], [1.0, \"#f0f921\"]], \"type\": \"heatmap\"}], \"heatmapgl\": [{\"colorbar\": {\"outlinewidth\": 0, \"ticks\": \"\"}, \"colorscale\": [[0.0, \"#0d0887\"], [0.1111111111111111, \"#46039f\"], [0.2222222222222222, \"#7201a8\"], [0.3333333333333333, \"#9c179e\"], [0.4444444444444444, \"#bd3786\"], [0.5555555555555556, \"#d8576b\"], [0.6666666666666666, \"#ed7953\"], [0.7777777777777778, \"#fb9f3a\"], [0.8888888888888888, \"#fdca26\"], [1.0, \"#f0f921\"]], \"type\": \"heatmapgl\"}], \"histogram\": [{\"marker\": {\"colorbar\": {\"outlinewidth\": 0, \"ticks\": \"\"}}, \"type\": \"histogram\"}], \"histogram2d\": [{\"colorbar\": {\"outlinewidth\": 0, \"ticks\": \"\"}, \"colorscale\": [[0.0, \"#0d0887\"], [0.1111111111111111, \"#46039f\"], [0.2222222222222222, \"#7201a8\"], [0.3333333333333333, \"#9c179e\"], [0.4444444444444444, \"#bd3786\"], [0.5555555555555556, \"#d8576b\"], [0.6666666666666666, \"#ed7953\"], [0.7777777777777778, \"#fb9f3a\"], [0.8888888888888888, \"#fdca26\"], [1.0, \"#f0f921\"]], \"type\": \"histogram2d\"}], \"histogram2dcontour\": [{\"colorbar\": {\"outlinewidth\": 0, \"ticks\": \"\"}, \"colorscale\": [[0.0, \"#0d0887\"], [0.1111111111111111, \"#46039f\"], [0.2222222222222222, \"#7201a8\"], [0.3333333333333333, \"#9c179e\"], [0.4444444444444444, \"#bd3786\"], [0.5555555555555556, \"#d8576b\"], [0.6666666666666666, \"#ed7953\"], [0.7777777777777778, \"#fb9f3a\"], [0.8888888888888888, \"#fdca26\"], [1.0, \"#f0f921\"]], \"type\": \"histogram2dcontour\"}], \"mesh3d\": [{\"colorbar\": {\"outlinewidth\": 0, \"ticks\": \"\"}, \"type\": \"mesh3d\"}], \"parcoords\": [{\"line\": {\"colorbar\": {\"outlinewidth\": 0, \"ticks\": \"\"}}, \"type\": \"parcoords\"}], \"pie\": [{\"automargin\": true, \"type\": \"pie\"}], \"scatter\": [{\"marker\": {\"colorbar\": {\"outlinewidth\": 0, \"ticks\": \"\"}}, \"type\": \"scatter\"}], \"scatter3d\": [{\"line\": {\"colorbar\": {\"outlinewidth\": 0, \"ticks\": \"\"}}, \"marker\": {\"colorbar\": {\"outlinewidth\": 0, \"ticks\": \"\"}}, \"type\": \"scatter3d\"}], \"scattercarpet\": [{\"marker\": {\"colorbar\": {\"outlinewidth\": 0, \"ticks\": \"\"}}, \"type\": \"scattercarpet\"}], \"scattergeo\": [{\"marker\": {\"colorbar\": {\"outlinewidth\": 0, \"ticks\": \"\"}}, \"type\": \"scattergeo\"}], \"scattergl\": [{\"marker\": {\"colorbar\": {\"outlinewidth\": 0, \"ticks\": \"\"}}, \"type\": \"scattergl\"}], \"scattermapbox\": [{\"marker\": {\"colorbar\": {\"outlinewidth\": 0, \"ticks\": \"\"}}, \"type\": \"scattermapbox\"}], \"scatterpolar\": [{\"marker\": {\"colorbar\": {\"outlinewidth\": 0, \"ticks\": \"\"}}, \"type\": \"scatterpolar\"}], \"scatterpolargl\": [{\"marker\": {\"colorbar\": {\"outlinewidth\": 0, \"ticks\": \"\"}}, \"type\": \"scatterpolargl\"}], \"scatterternary\": [{\"marker\": {\"colorbar\": {\"outlinewidth\": 0, \"ticks\": \"\"}}, \"type\": \"scatterternary\"}], \"surface\": [{\"colorbar\": {\"outlinewidth\": 0, \"ticks\": \"\"}, \"colorscale\": [[0.0, \"#0d0887\"], [0.1111111111111111, \"#46039f\"], [0.2222222222222222, \"#7201a8\"], [0.3333333333333333, \"#9c179e\"], [0.4444444444444444, \"#bd3786\"], [0.5555555555555556, \"#d8576b\"], [0.6666666666666666, \"#ed7953\"], [0.7777777777777778, \"#fb9f3a\"], [0.8888888888888888, \"#fdca26\"], [1.0, \"#f0f921\"]], \"type\": \"surface\"}], \"table\": [{\"cells\": {\"fill\": {\"color\": \"#EBF0F8\"}, \"line\": {\"color\": \"white\"}}, \"header\": {\"fill\": {\"color\": \"#C8D4E3\"}, \"line\": {\"color\": \"white\"}}, \"type\": \"table\"}]}, \"layout\": {\"annotationdefaults\": {\"arrowcolor\": \"#2a3f5f\", \"arrowhead\": 0, \"arrowwidth\": 1}, \"coloraxis\": {\"colorbar\": {\"outlinewidth\": 0, \"ticks\": \"\"}}, \"colorscale\": {\"diverging\": [[0, \"#8e0152\"], [0.1, \"#c51b7d\"], [0.2, \"#de77ae\"], [0.3, \"#f1b6da\"], [0.4, \"#fde0ef\"], [0.5, \"#f7f7f7\"], [0.6, \"#e6f5d0\"], [0.7, \"#b8e186\"], [0.8, \"#7fbc41\"], [0.9, \"#4d9221\"], [1, \"#276419\"]], \"sequential\": [[0.0, \"#0d0887\"], [0.1111111111111111, \"#46039f\"], [0.2222222222222222, \"#7201a8\"], [0.3333333333333333, \"#9c179e\"], [0.4444444444444444, \"#bd3786\"], [0.5555555555555556, \"#d8576b\"], [0.6666666666666666, \"#ed7953\"], [0.7777777777777778, \"#fb9f3a\"], [0.8888888888888888, \"#fdca26\"], [1.0, \"#f0f921\"]], \"sequentialminus\": [[0.0, \"#0d0887\"], [0.1111111111111111, \"#46039f\"], [0.2222222222222222, \"#7201a8\"], [0.3333333333333333, \"#9c179e\"], [0.4444444444444444, \"#bd3786\"], [0.5555555555555556, \"#d8576b\"], [0.6666666666666666, \"#ed7953\"], [0.7777777777777778, \"#fb9f3a\"], [0.8888888888888888, \"#fdca26\"], [1.0, \"#f0f921\"]]}, \"colorway\": [\"#636efa\", \"#EF553B\", \"#00cc96\", \"#ab63fa\", \"#FFA15A\", \"#19d3f3\", \"#FF6692\", \"#B6E880\", \"#FF97FF\", \"#FECB52\"], \"font\": {\"color\": \"#2a3f5f\"}, \"geo\": {\"bgcolor\": \"white\", \"lakecolor\": \"white\", \"landcolor\": \"#E5ECF6\", \"showlakes\": true, \"showland\": true, \"subunitcolor\": \"white\"}, \"hoverlabel\": {\"align\": \"left\"}, \"hovermode\": \"closest\", \"mapbox\": {\"style\": \"light\"}, \"paper_bgcolor\": \"white\", \"plot_bgcolor\": \"#E5ECF6\", \"polar\": {\"angularaxis\": {\"gridcolor\": \"white\", \"linecolor\": \"white\", \"ticks\": \"\"}, \"bgcolor\": \"#E5ECF6\", \"radialaxis\": {\"gridcolor\": \"white\", \"linecolor\": \"white\", \"ticks\": \"\"}}, \"scene\": {\"xaxis\": {\"backgroundcolor\": \"#E5ECF6\", \"gridcolor\": \"white\", \"gridwidth\": 2, \"linecolor\": \"white\", \"showbackground\": true, \"ticks\": \"\", \"zerolinecolor\": \"white\"}, \"yaxis\": {\"backgroundcolor\": \"#E5ECF6\", \"gridcolor\": \"white\", \"gridwidth\": 2, \"linecolor\": \"white\", \"showbackground\": true, \"ticks\": \"\", \"zerolinecolor\": \"white\"}, \"zaxis\": {\"backgroundcolor\": \"#E5ECF6\", \"gridcolor\": \"white\", \"gridwidth\": 2, \"linecolor\": \"white\", \"showbackground\": true, \"ticks\": \"\", \"zerolinecolor\": \"white\"}}, \"shapedefaults\": {\"line\": {\"color\": \"#2a3f5f\"}}, \"ternary\": {\"aaxis\": {\"gridcolor\": \"white\", \"linecolor\": \"white\", \"ticks\": \"\"}, \"baxis\": {\"gridcolor\": \"white\", \"linecolor\": \"white\", \"ticks\": \"\"}, \"bgcolor\": \"#E5ECF6\", \"caxis\": {\"gridcolor\": \"white\", \"linecolor\": \"white\", \"ticks\": \"\"}}, \"title\": {\"x\": 0.05}, \"xaxis\": {\"automargin\": true, \"gridcolor\": \"white\", \"linecolor\": \"white\", \"ticks\": \"\", \"title\": {\"standoff\": 15}, \"zerolinecolor\": \"white\", \"zerolinewidth\": 2}, \"yaxis\": {\"automargin\": true, \"gridcolor\": \"white\", \"linecolor\": \"white\", \"ticks\": \"\", \"title\": {\"standoff\": 15}, \"zerolinecolor\": \"white\", \"zerolinewidth\": 2}}}, \"xaxis\": {\"anchor\": \"y2\", \"domain\": [0.0, 1.0], \"zeroline\": false}, \"yaxis\": {\"anchor\": \"free\", \"domain\": [0.35, 1], \"position\": 0.0}, \"yaxis2\": {\"anchor\": \"x\", \"domain\": [0, 0.25], \"dtick\": 1, \"showticklabels\": false}},\n",
       "                        {\"responsive\": true}\n",
       "                    ).then(function(){\n",
       "                            \n",
       "var gd = document.getElementById('7bb1a544-b9c0-4a5b-8b03-d4f9488d5458');\n",
       "var x = new MutationObserver(function (mutations, observer) {{\n",
       "        var display = window.getComputedStyle(gd).display;\n",
       "        if (!display || display === 'none') {{\n",
       "            console.log([gd, 'removed!']);\n",
       "            Plotly.purge(gd);\n",
       "            observer.disconnect();\n",
       "        }}\n",
       "}});\n",
       "\n",
       "// Listen for the removal of the full notebook cells\n",
       "var notebookContainer = gd.closest('#notebook-container');\n",
       "if (notebookContainer) {{\n",
       "    x.observe(notebookContainer, {childList: true});\n",
       "}}\n",
       "\n",
       "// Listen for the clearing of the current output cell\n",
       "var outputEl = gd.closest('.output');\n",
       "if (outputEl) {{\n",
       "    x.observe(outputEl, {childList: true});\n",
       "}}\n",
       "\n",
       "                        })\n",
       "                };\n",
       "                });\n",
       "            </script>\n",
       "        </div>"
      ]
     },
     "metadata": {},
     "output_type": "display_data"
    }
   ],
   "source": [
    "fig = ff.create_distplot([ipos['ex_returns']], ['ex_returns'], bin_size=.05, histnorm = '')\n",
    "fig.show()"
   ]
  },
  {
   "cell_type": "markdown",
   "metadata": {
    "tags": []
   },
   "source": [
    "## Input Features - Pre-IPO Data Variables\n",
    "#### Categorical\n",
    "1. market\n",
    "2. state\n",
    "3. industry (v2)\n",
    "4. sector (v2)\n",
    "\n",
    "#### Numerical\n",
    "1. employees\n",
    "2. priceLow\n",
    "3. totalExpenses\n",
    "4. sharesOutstanding\n",
    "5. revenue\n",
    "6. netIncome\n",
    "7. totalAssets\n",
    "8. totalLiabilities\n",
    "9. amount\n",
    "10. percentOffered"
   ]
  },
  {
   "cell_type": "code",
   "execution_count": 255,
   "metadata": {},
   "outputs": [],
   "source": [
    "def cast_columns_dtype(df, dtype, columns=[], all_columns=True):\n",
    "    '''\n",
    "    Casts columns into a specified type.\n",
    "    '''\n",
    "    if all_columns == True:\n",
    "        columns = list(df.columns)\n",
    "\n",
    "    dtype_dict = {col: dtype for col in columns}\n",
    "    return df.astype(dtype_dict)\n",
    "    \n",
    "\n",
    "def create_labeled_data(data, target_col, categorical=[], numerical=[], retcolumns=False):\n",
    "    '''\n",
    "    Create X and y data arrays for machine learning methods.\n",
    "    '''\n",
    "\n",
    "    # Numerical\n",
    "    if len(numerical) > 0:\n",
    "        X = data[numerical].copy()\n",
    "    else:\n",
    "        X = pd.get_dummies(data[categorical])\n",
    "    # Categorical\n",
    "    if len(categorical) > 0 and len(numerical):\n",
    "        X = X.merge(pd.get_dummies(data[categorical]), right_index=True, left_index=True)\n",
    "    # Cast types\n",
    "    X = cast_columns_dtype(X, 'float64')\n",
    "\n",
    "    # Target values\n",
    "    y = data[target_col].copy()\n",
    "    \n",
    "    if retcolumns == True:\n",
    "        return X.to_numpy(), y.to_numpy().ravel(), list(X.columns)\n",
    "\n",
    "    return X.to_numpy(), y.to_numpy().ravel()"
   ]
  },
  {
   "cell_type": "code",
   "execution_count": 256,
   "metadata": {},
   "outputs": [],
   "source": [
    "categorical = ['state', 'market']\n",
    "numerical = [\n",
    "    'employees',\n",
    "    'priceLow',\n",
    "    'totalExpenses',\n",
    "    'sharesOutstanding',\n",
    "    'revenue',\n",
    "    'netIncome',\n",
    "    'totalAssets',\n",
    "    'totalLiabilities',\n",
    "    'amount',\n",
    "    'percentOffered'\n",
    "]\n",
    "target_col = ['ex_returns']\n",
    "X, y, X_columns = create_labeled_data(ipos, target_col, categorical, numerical, True)"
   ]
  },
  {
   "cell_type": "code",
   "execution_count": 257,
   "metadata": {},
   "outputs": [],
   "source": [
    "np.savetxt('X.csv', X, delimiter=',', header=', '.join(X_columns))\n",
    "np.savetxt('y.csv', y, delimiter=',', header=target_col[0])"
   ]
  },
  {
   "cell_type": "markdown",
   "metadata": {},
   "source": [
    "## Fitting a Random Forest Model\n",
    "---\n",
    "\n",
    "**fit(self, X, y, sample_weight=None)**\n",
    "\n",
    "Build a forest of trees from the training set (X, y).\n",
    "\n",
    "|Parameters|Description|\n",
    "|:--|:--|\n",
    "|**X : {array-like, sparse matrix} of shape (n_samples, n_features)**|The training input samples.|\n",
    "|**y : array-like of shape (n_samples,) or (n_samples, n_outputs)**|The target values (class labels in classification, real numbers in regression).|\n",
    "|**sample_weight : array-like of shape (n_samples,), default=None**|Sample weights. If None, then samples are equally weighted. Splits that would create child nodes with net zero or negative weight are ignored while searching for a split in each node. In the case of classification, splits are also ignored if they would result in any single class carrying a negative weight in either child node.|"
   ]
  },
  {
   "cell_type": "code",
   "execution_count": 258,
   "metadata": {},
   "outputs": [],
   "source": [
    "# Divide the data in to train, dev sets (70%, 30%)\n",
    "\n",
    "test_size = 0.30\n",
    "random_state = 0\n",
    "\n",
    "X_train, X_dev, y_train, y_dev = train_test_split(X, y, test_size=test_size, random_state=random_state)"
   ]
  },
  {
   "cell_type": "markdown",
   "metadata": {},
   "source": [
    "### Initial Regression\n",
    "Fit our initial version of the random forest regression and full list of input variables. This is to see if there is some explanatory or predictive power of our inputs and our target variable--one-month excess market returns."
   ]
  },
  {
   "cell_type": "code",
   "execution_count": 259,
   "metadata": {},
   "outputs": [
    {
     "name": "stdout",
     "output_type": "stream",
     "text": [
      "R^2 Scores - Default Hyperparameters\n",
      "Train score: 0.6262\n",
      "Dev score: 0.0177\n"
     ]
    }
   ],
   "source": [
    "# 1. 1st try - Default Hyperparameters\n",
    "regr = RandomForestRegressor(max_depth=2, random_state=0)\n",
    "regr.fit(X_train, y_train)\n",
    "train_scores = {}\n",
    "dev_scores = {}\n",
    "train_scores['default'] = regr.score(X_train, y_train)\n",
    "dev_scores['default'] = regr.score(X_dev, y_dev)\n",
    "\n",
    "# Results\n",
    "print('R^2 Scores - Default Hyperparameters')\n",
    "print('Train score:', '{:.4f}'.format(train_scores['default']))\n",
    "print('Dev score:', '{:.4f}'.format(dev_scores['default']))\n",
    "\n",
    "# fig = go.Figure(data=[go.Table(header=dict(values=['Data', 'R^2']), \\\n",
    "#                                cells=dict(values=[['train_score', 'dev_score'], [train_score, dev_score]]))])\n",
    "# fig.update_layout(width=500, height=300, \\\n",
    "#                      margin=dict(l=50, r=50, b=20, t=20, pad=0))\n",
    "# fig.show()\n",
    "# y_pred = regr.predict(X_test)\n",
    "# print(y_pred[0])\n",
    "# print(y_test[0])"
   ]
  },
  {
   "cell_type": "markdown",
   "metadata": {},
   "source": [
    "**Horrible first regression!** We have pretty low training performance and out of sample performance is only slightly better than random guessing. Our goal now is to increase performance across the board and see if we are able to find some predictive power from our input variable. Some of the steps are going to try are:\n",
    "- Train using full depth trees\n",
    "- Simplify the set of input variables\n",
    "- Setting `max_features` to a lower value\n",
    "- Modify RF class to replace standard bootstrapping with sequential bootstrapping\n"
   ]
  },
  {
   "cell_type": "code",
   "execution_count": 260,
   "metadata": {},
   "outputs": [
    {
     "name": "stdout",
     "output_type": "stream",
     "text": [
      "R^2 Scores - Full Depth Trees\n",
      "Train score: 0.8095\n",
      "Dev score: 0.0416\n"
     ]
    }
   ],
   "source": [
    "# 2. Train using full depth trees\n",
    "regr = RandomForestRegressor(max_depth=None, random_state=0)\n",
    "regr.fit(X_train, y_train)\n",
    "train_scores['fullDepth'] = regr.score(X_train, y_train)\n",
    "dev_scores['fullDepth'] = regr.score(X_dev, y_dev)\n",
    "\n",
    "# Results\n",
    "print('R^2 Scores - Full Depth Trees')\n",
    "print('Train score:', '{:.4f}'.format(train_scores['fullDepth']))\n",
    "print('Dev score:', '{:.4f}'.format(dev_scores['fullDepth']))"
   ]
  },
  {
   "cell_type": "markdown",
   "metadata": {},
   "source": [
    "Large improvement in training score, but no change in dev score. Model is not able to generalize to out of the training data."
   ]
  },
  {
   "cell_type": "code",
   "execution_count": 261,
   "metadata": {},
   "outputs": [
    {
     "name": "stdout",
     "output_type": "stream",
     "text": [
      "R^2 Scores - 10,000 Trees\n",
      "Train score: 0.8338\n",
      "Dev score: 0.0055\n"
     ]
    }
   ],
   "source": [
    "# 3. Increase number of trees to 10,000 (versus 100 default)\n",
    "regr = RandomForestRegressor(max_depth=None, random_state=0, n_estimators=10000)\n",
    "regr.fit(X_train, y_train)\n",
    "train_scores['fullDepth'] = regr.score(X_train, y_train)\n",
    "dev_scores['fullDepth'] = regr.score(X_dev, y_dev)\n",
    "\n",
    "# Results\n",
    "print('R^2 Scores - 10,000 Trees')\n",
    "print('Train score:', '{:.4f}'.format(train_scores['fullDepth']))\n",
    "print('Dev score:', '{:.4f}'.format(dev_scores['fullDepth']))\n",
    "\n",
    "# TODO: Need to F-test dev score"
   ]
  },
  {
   "cell_type": "code",
   "execution_count": 262,
   "metadata": {},
   "outputs": [
    {
     "name": "stdout",
     "output_type": "stream",
     "text": [
      "R^2 Scores - Sqrt Max Features\n",
      "Train score: 0.8460\n",
      "Dev score: -0.0992\n"
     ]
    }
   ],
   "source": [
    "# 4. Lower max_features than n_features\n",
    "regr = RandomForestRegressor(max_depth=None, random_state=0, n_estimators=10000, max_features='sqrt')\n",
    "regr.fit(X_train, y_train)\n",
    "train_scores['sqrtMaxF'] = regr.score(X_train, y_train)\n",
    "dev_scores['sqrtMaxF'] = regr.score(X_dev, y_dev)\n",
    "\n",
    "# Results\n",
    "print('R^2 Scores - Sqrt Max Features')\n",
    "print('Train score:', '{:.4f}'.format(train_scores['sqrtMaxF']))\n",
    "print('Dev score:', '{:.4f}'.format(dev_scores['sqrtMaxF']))"
   ]
  },
  {
   "cell_type": "markdown",
   "metadata": {},
   "source": [
    "## Random Forest Classification\n",
    "---\n",
    "### Trying a simpler problem\n",
    "Instead of trying to predict the specific excess return values, we are going to bucket the returns and try to fit a random forest classification model to predict the bucket assignment. With this simpler problem we are hoping to find some precitive power of our model."
   ]
  },
  {
   "cell_type": "code",
   "execution_count": 263,
   "metadata": {},
   "outputs": [],
   "source": [
    "# 1. Binary classification of target values: positive versus negative returns\n",
    "ipos2 = ipos.copy()\n",
    "ipos2['ex_returns'] = (ipos2['ex_returns'] > 0).astype(int)"
   ]
  },
  {
   "cell_type": "code",
   "execution_count": 264,
   "metadata": {},
   "outputs": [],
   "source": [
    "# Divide the data in to train, dev sets (70%, 30%)\n",
    "X, y, X_columns = create_labeled_data(ipos2, target_col, categorical, numerical, True)\n",
    "\n",
    "test_size = 0.30\n",
    "random_state = 0\n",
    "\n",
    "X_train, X_dev, y_train, y_dev = train_test_split(X, y, test_size=test_size, random_state=random_state)"
   ]
  },
  {
   "cell_type": "code",
   "execution_count": 265,
   "metadata": {},
   "outputs": [
    {
     "name": "stdout",
     "output_type": "stream",
     "text": [
      "Classification Scores - Full Depth Trees\n",
      "Train score: 1.0000\n",
      "Dev score: 0.5758\n"
     ]
    }
   ],
   "source": [
    "train_scores_clf = {}\n",
    "dev_scores_clf = {}\n",
    "\n",
    "# Model\n",
    "clf = RandomForestClassifier(max_depth=None, random_state=0, n_estimators=10000)\n",
    "clf.fit(X_train, y_train)\n",
    "train_scores_clf['maxDepth'] = clf.score(X_train, y_train)\n",
    "dev_scores_clf['maxDepth'] = clf.score(X_dev, y_dev)\n",
    "\n",
    "# Results\n",
    "print('Classification Scores - Full Depth Trees')\n",
    "print('Train score:', '{:.4f}'.format(train_scores_clf['maxDepth']))\n",
    "print('Dev score:', '{:.4f}'.format(dev_scores_clf['maxDepth']))"
   ]
  },
  {
   "cell_type": "code",
   "execution_count": 266,
   "metadata": {},
   "outputs": [],
   "source": [
    "# 2. Binning of target values using uniform\n",
    "\n",
    "bins = [-1.0001, -0.75, -0.5, -0.25, 0, 0.25, 0.5, 0.75, 1, 1000]\n",
    "labels = [i for i in range(0, 9)]\n",
    "ipos['bin_ex_returns'] = pd.cut(ipos['ex_returns'], bins=bins, labels=labels)\n",
    "\n",
    "X, y, X_columns = create_labeled_data(ipos, 'bin_ex_returns', categorical, numerical, True)"
   ]
  },
  {
   "cell_type": "code",
   "execution_count": 267,
   "metadata": {},
   "outputs": [],
   "source": [
    "# Divide the data in to train, dev sets (70%, 30%)\n",
    "test_size = 0.30\n",
    "random_state = 0\n",
    "\n",
    "X_train, X_dev, y_train, y_dev = train_test_split(X, y, test_size=test_size, random_state=random_state)"
   ]
  },
  {
   "cell_type": "code",
   "execution_count": 268,
   "metadata": {},
   "outputs": [
    {
     "name": "stdout",
     "output_type": "stream",
     "text": [
      "Classification Scores - Full Depth Trees\n",
      "Train score: 1.0000\n",
      "Dev score: 0.2424\n"
     ]
    }
   ],
   "source": [
    "# Model\n",
    "clf = RandomForestClassifier(max_depth=None, random_state=0, n_estimators=10000)\n",
    "clf.fit(X_train, y_train)\n",
    "train_scores_clf['maxDepth'] = clf.score(X_train, y_train)\n",
    "dev_scores_clf['maxDepth'] = clf.score(X_dev, y_dev)\n",
    "\n",
    "# Results\n",
    "print('Classification Scores - Full Depth Trees')\n",
    "print('Train score:', '{:.4f}'.format(train_scores_clf['maxDepth']))\n",
    "print('Dev score:', '{:.4f}'.format(dev_scores_clf['maxDepth']))"
   ]
  },
  {
   "cell_type": "markdown",
   "metadata": {},
   "source": [
    "## Testing the Final Model\n",
    "---"
   ]
  },
  {
   "cell_type": "markdown",
   "metadata": {},
   "source": [
    "## Logistic Regression for Comparison"
   ]
  },
  {
   "cell_type": "code",
   "execution_count": 269,
   "metadata": {},
   "outputs": [
    {
     "name": "stdout",
     "output_type": "stream",
     "text": [
      "Classification Scores - Logit Regression\n",
      "Train score: 0.4286\n",
      "Dev score: 0.3030\n"
     ]
    }
   ],
   "source": [
    "# Model\n",
    "clf = LogisticRegression(solver='liblinear', random_state=random_state)\n",
    "clf.fit(X_train, y_train)\n",
    "train_scores_clf['logit'] = clf.score(X_train, y_train)\n",
    "dev_scores_clf['logit'] = clf.score(X_dev, y_dev)\n",
    "\n",
    "# Results\n",
    "print('Classification Scores - Logit Regression')\n",
    "print('Train score:', '{:.4f}'.format(train_scores_clf['logit']))\n",
    "print('Dev score:', '{:.4f}'.format(dev_scores_clf['logit']))\n"
   ]
  },
  {
   "cell_type": "code",
   "execution_count": null,
   "metadata": {},
   "outputs": [],
   "source": []
  }
 ],
 "metadata": {
  "kernelspec": {
   "display_name": "Python 3",
   "language": "python",
   "name": "python3"
  },
  "language_info": {
   "codemirror_mode": {
    "name": "ipython",
    "version": 3
   },
   "file_extension": ".py",
   "mimetype": "text/x-python",
   "name": "python",
   "nbconvert_exporter": "python",
   "pygments_lexer": "ipython3",
   "version": "3.8.2"
  }
 },
 "nbformat": 4,
 "nbformat_minor": 4
}
